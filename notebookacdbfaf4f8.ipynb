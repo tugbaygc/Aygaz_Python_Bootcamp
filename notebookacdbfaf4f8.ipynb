{
  "metadata": {
    "kernelspec": {
      "language": "python",
      "display_name": "Python 3",
      "name": "python3"
    },
    "language_info": {
      "name": "python",
      "version": "3.10.14",
      "mimetype": "text/x-python",
      "codemirror_mode": {
        "name": "ipython",
        "version": 3
      },
      "pygments_lexer": "ipython3",
      "nbconvert_exporter": "python",
      "file_extension": ".py"
    },
    "kaggle": {
      "accelerator": "none",
      "dataSources": [
        {
          "sourceId": 8984243,
          "sourceType": "datasetVersion",
          "datasetId": 5410371
        }
      ],
      "dockerImageVersionId": 30761,
      "isInternetEnabled": false,
      "language": "python",
      "sourceType": "notebook",
      "isGpuEnabled": false
    },
    "colab": {
      "name": "notebookacdbfaf4f8",
      "provenance": [],
      "include_colab_link": true
    }
  },
  "nbformat_minor": 0,
  "nbformat": 4,
  "cells": [
    {
      "cell_type": "markdown",
      "metadata": {
        "id": "view-in-github",
        "colab_type": "text"
      },
      "source": [
        "<a href=\"https://colab.research.google.com/github/tugbaygc/Aygaz_Python_Bootcamp/blob/main/notebookacdbfaf4f8.ipynb\" target=\"_parent\"><img src=\"https://colab.research.google.com/assets/colab-badge.svg\" alt=\"Open In Colab\"/></a>"
      ]
    },
    {
      "source": [
        "\n",
        "# IMPORTANT: RUN THIS CELL IN ORDER TO IMPORT YOUR KAGGLE DATA SOURCES\n",
        "# TO THE CORRECT LOCATION (/kaggle/input) IN YOUR NOTEBOOK,\n",
        "# THEN FEEL FREE TO DELETE THIS CELL.\n",
        "# NOTE: THIS NOTEBOOK ENVIRONMENT DIFFERS FROM KAGGLE'S PYTHON\n",
        "# ENVIRONMENT SO THERE MAY BE MISSING LIBRARIES USED BY YOUR\n",
        "# NOTEBOOK.\n",
        "\n",
        "import os\n",
        "import sys\n",
        "from tempfile import NamedTemporaryFile\n",
        "from urllib.request import urlopen\n",
        "from urllib.parse import unquote, urlparse\n",
        "from urllib.error import HTTPError\n",
        "from zipfile import ZipFile\n",
        "import tarfile\n",
        "import shutil\n",
        "\n",
        "CHUNK_SIZE = 40960\n",
        "DATA_SOURCE_MAPPING = 'nasa-nearest-earth-objects-1910-2024:https%3A%2F%2Fstorage.googleapis.com%2Fkaggle-data-sets%2F5410371%2F8984243%2Fbundle%2Farchive.zip%3FX-Goog-Algorithm%3DGOOG4-RSA-SHA256%26X-Goog-Credential%3Dgcp-kaggle-com%2540kaggle-161607.iam.gserviceaccount.com%252F20240919%252Fauto%252Fstorage%252Fgoog4_request%26X-Goog-Date%3D20240919T144538Z%26X-Goog-Expires%3D259200%26X-Goog-SignedHeaders%3Dhost%26X-Goog-Signature%3D35000e8f521f06549e205425cbaf1bcd8e69a081bcfa81073b7a91aad33c2371722081d845a698a5ab6f163b4380ad62b97bfba848d945aa5e8d4eba203098a92d98cc0cb9b1ef26937b9388b0969f843b7d097da625db66b9e3d2f2391762a89d7c3c449134ee2b5b66d0e76489bf92cfc63c0494cf5d13db6856884e1ffef74eb27d8b57fd2bf244f6ef07f12797d9d1dd70eab7a1007e8d2f2576afcca93a9c6cd67eedc97b1ae9733ad4219dc5b70135f7ba8fdb78acc6941bd46127ca103aa0f3b0e3879a32fa2ab391d1d47585df2afc034a4af2fdf86af6c30c846838929547b90eaa0ce073db25c858d72da6dad3b03e95436ae83bd3440e4170d375'\n",
        "\n",
        "KAGGLE_INPUT_PATH='/kaggle/input'\n",
        "KAGGLE_WORKING_PATH='/kaggle/working'\n",
        "KAGGLE_SYMLINK='kaggle'\n",
        "\n",
        "!umount /kaggle/input/ 2> /dev/null\n",
        "shutil.rmtree('/kaggle/input', ignore_errors=True)\n",
        "os.makedirs(KAGGLE_INPUT_PATH, 0o777, exist_ok=True)\n",
        "os.makedirs(KAGGLE_WORKING_PATH, 0o777, exist_ok=True)\n",
        "\n",
        "try:\n",
        "  os.symlink(KAGGLE_INPUT_PATH, os.path.join(\"..\", 'input'), target_is_directory=True)\n",
        "except FileExistsError:\n",
        "  pass\n",
        "try:\n",
        "  os.symlink(KAGGLE_WORKING_PATH, os.path.join(\"..\", 'working'), target_is_directory=True)\n",
        "except FileExistsError:\n",
        "  pass\n",
        "\n",
        "for data_source_mapping in DATA_SOURCE_MAPPING.split(','):\n",
        "    directory, download_url_encoded = data_source_mapping.split(':')\n",
        "    download_url = unquote(download_url_encoded)\n",
        "    filename = urlparse(download_url).path\n",
        "    destination_path = os.path.join(KAGGLE_INPUT_PATH, directory)\n",
        "    try:\n",
        "        with urlopen(download_url) as fileres, NamedTemporaryFile() as tfile:\n",
        "            total_length = fileres.headers['content-length']\n",
        "            print(f'Downloading {directory}, {total_length} bytes compressed')\n",
        "            dl = 0\n",
        "            data = fileres.read(CHUNK_SIZE)\n",
        "            while len(data) > 0:\n",
        "                dl += len(data)\n",
        "                tfile.write(data)\n",
        "                done = int(50 * dl / int(total_length))\n",
        "                sys.stdout.write(f\"\\r[{'=' * done}{' ' * (50-done)}] {dl} bytes downloaded\")\n",
        "                sys.stdout.flush()\n",
        "                data = fileres.read(CHUNK_SIZE)\n",
        "            if filename.endswith('.zip'):\n",
        "              with ZipFile(tfile) as zfile:\n",
        "                zfile.extractall(destination_path)\n",
        "            else:\n",
        "              with tarfile.open(tfile.name) as tarfile:\n",
        "                tarfile.extractall(destination_path)\n",
        "            print(f'\\nDownloaded and uncompressed: {directory}')\n",
        "    except HTTPError as e:\n",
        "        print(f'Failed to load (likely expired) {download_url} to path {destination_path}')\n",
        "        continue\n",
        "    except OSError as e:\n",
        "        print(f'Failed to load {download_url} to path {destination_path}')\n",
        "        continue\n",
        "\n",
        "print('Data source import complete.')\n"
      ],
      "metadata": {
        "colab": {
          "base_uri": "https://localhost:8080/"
        },
        "id": "1ysg4KKJvv8X",
        "outputId": "aaede063-1027-4ee2-e200-e8ccb0d6712e"
      },
      "cell_type": "code",
      "outputs": [
        {
          "output_type": "stream",
          "name": "stdout",
          "text": [
            "Downloading nasa-nearest-earth-objects-1910-2024, 13657427 bytes compressed\n",
            "[==================================================] 13657427 bytes downloaded\n",
            "Downloaded and uncompressed: nasa-nearest-earth-objects-1910-2024\n",
            "Data source import complete.\n"
          ]
        }
      ],
      "execution_count": 1
    },
    {
      "cell_type": "code",
      "source": [
        "# This Python 3 environment comes with many helpful analytics libraries installed\n",
        "# It is defined by the kaggle/python Docker image: https://github.com/kaggle/docker-python\n",
        "# For example, here's several helpful packages to load\n",
        "\n",
        "import numpy as pd # linear algebra\n",
        "import pandas as pd # data processing, CSV file I/O (e.g. pd.read_csv)\n",
        "\n",
        "# Input data files are available in the read-only \"../input/\" directory\n",
        "# For example, running this (by clicking run or pressing Shift+Enter) will list all files under the input directory\n",
        "\n",
        "import os\n",
        "for dirname, _, filenames in os.walk('/kaggle/input'):\n",
        "    for filename in filenames:\n",
        "        print(os.path.join(dirname, filename))\n",
        "\n",
        "# You can write up to 20GB to the current directory (/kaggle/working/) that gets preserved as output when you create a version using \"Save & Run All\"\n",
        "# You can also write temporary files to /kaggle/temp/, but they won't be saved outside of the current session"
      ],
      "metadata": {
        "_uuid": "8f2839f25d086af736a60e9eeb907d3b93b6e0e5",
        "_cell_guid": "b1076dfc-b9ad-4769-8c92-a6c4dae69d19",
        "execution": {
          "iopub.status.busy": "2024-09-19T14:34:59.424112Z",
          "iopub.execute_input": "2024-09-19T14:34:59.424598Z",
          "iopub.status.idle": "2024-09-19T14:34:59.437008Z",
          "shell.execute_reply.started": "2024-09-19T14:34:59.424553Z",
          "shell.execute_reply": "2024-09-19T14:34:59.43535Z"
        },
        "trusted": true,
        "colab": {
          "base_uri": "https://localhost:8080/"
        },
        "id": "ThbY6nH7vv8Z",
        "outputId": "8e57966c-1f2c-455b-fdf7-f33292f5ff8f"
      },
      "execution_count": 13,
      "outputs": [
        {
          "output_type": "stream",
          "name": "stdout",
          "text": [
            "/kaggle/input/nasa-nearest-earth-objects-1910-2024/nearest-earth-objects(1910-2024).csv\n"
          ]
        }
      ]
    },
    {
      "cell_type": "code",
      "source": [
        "import matplotlib.pyplot as plt\n",
        "import seaborn as sns"
      ],
      "metadata": {
        "execution": {
          "iopub.status.busy": "2024-09-19T14:34:59.439556Z",
          "iopub.execute_input": "2024-09-19T14:34:59.439956Z",
          "iopub.status.idle": "2024-09-19T14:34:59.453742Z",
          "shell.execute_reply.started": "2024-09-19T14:34:59.439902Z",
          "shell.execute_reply": "2024-09-19T14:34:59.452048Z"
        },
        "trusted": true,
        "id": "FJ4OnkRKvv8a"
      },
      "execution_count": 14,
      "outputs": []
    },
    {
      "cell_type": "code",
      "source": [
        "df = pd.read_csv('/kaggle/input/nasa-nearest-earth-objects-1910-2024/nearest-earth-objects(1910-2024).csv')"
      ],
      "metadata": {
        "execution": {
          "iopub.status.busy": "2024-09-19T14:34:59.493582Z",
          "iopub.execute_input": "2024-09-19T14:34:59.494018Z",
          "iopub.status.idle": "2024-09-19T14:35:00.17396Z",
          "shell.execute_reply.started": "2024-09-19T14:34:59.493969Z",
          "shell.execute_reply": "2024-09-19T14:35:00.17263Z"
        },
        "trusted": true,
        "id": "7A3JJsoevv8a"
      },
      "execution_count": 15,
      "outputs": []
    },
    {
      "cell_type": "code",
      "source": [
        "df.info()"
      ],
      "metadata": {
        "execution": {
          "iopub.status.busy": "2024-09-19T14:35:00.17623Z",
          "iopub.execute_input": "2024-09-19T14:35:00.176685Z",
          "iopub.status.idle": "2024-09-19T14:35:00.275137Z",
          "shell.execute_reply.started": "2024-09-19T14:35:00.17664Z",
          "shell.execute_reply": "2024-09-19T14:35:00.273586Z"
        },
        "trusted": true,
        "colab": {
          "base_uri": "https://localhost:8080/"
        },
        "id": "0ke4HhKIvv8a",
        "outputId": "7b392f7b-18b9-492b-a785-a8b3acff2bc6"
      },
      "execution_count": 16,
      "outputs": [
        {
          "output_type": "stream",
          "name": "stdout",
          "text": [
            "<class 'pandas.core.frame.DataFrame'>\n",
            "RangeIndex: 338199 entries, 0 to 338198\n",
            "Data columns (total 9 columns):\n",
            " #   Column                  Non-Null Count   Dtype  \n",
            "---  ------                  --------------   -----  \n",
            " 0   neo_id                  338199 non-null  int64  \n",
            " 1   name                    338199 non-null  object \n",
            " 2   absolute_magnitude      338171 non-null  float64\n",
            " 3   estimated_diameter_min  338171 non-null  float64\n",
            " 4   estimated_diameter_max  338171 non-null  float64\n",
            " 5   orbiting_body           338199 non-null  object \n",
            " 6   relative_velocity       338199 non-null  float64\n",
            " 7   miss_distance           338199 non-null  float64\n",
            " 8   is_hazardous            338199 non-null  bool   \n",
            "dtypes: bool(1), float64(5), int64(1), object(2)\n",
            "memory usage: 21.0+ MB\n"
          ]
        }
      ]
    },
    {
      "cell_type": "code",
      "source": [
        "df.describe()"
      ],
      "metadata": {
        "execution": {
          "iopub.status.busy": "2024-09-19T14:35:00.276547Z",
          "iopub.execute_input": "2024-09-19T14:35:00.277Z",
          "iopub.status.idle": "2024-09-19T14:35:00.417987Z",
          "shell.execute_reply.started": "2024-09-19T14:35:00.276945Z",
          "shell.execute_reply": "2024-09-19T14:35:00.416584Z"
        },
        "trusted": true,
        "colab": {
          "base_uri": "https://localhost:8080/",
          "height": 300
        },
        "id": "PT1NJxPbvv8b",
        "outputId": "b15d894c-f41f-4501-86e7-8d604599a91f"
      },
      "execution_count": 17,
      "outputs": [
        {
          "output_type": "execute_result",
          "data": {
            "text/plain": [
              "             neo_id  absolute_magnitude  estimated_diameter_min  \\\n",
              "count  3.381990e+05       338171.000000           338171.000000   \n",
              "mean   1.759939e+07           22.932525                0.157812   \n",
              "std    2.287225e+07            2.911216                0.313885   \n",
              "min    2.000433e+06            9.250000                0.000511   \n",
              "25%    3.373980e+06           20.740000                0.025384   \n",
              "50%    3.742127e+06           22.800000                0.073207   \n",
              "75%    5.405374e+07           25.100000                0.189041   \n",
              "max    5.446281e+07           33.580000               37.545248   \n",
              "\n",
              "       estimated_diameter_max  relative_velocity  miss_distance  \n",
              "count           338171.000000      338199.000000   3.381990e+05  \n",
              "mean                 0.352878       51060.662908   4.153535e+07  \n",
              "std                  0.701869       26399.238435   2.077399e+07  \n",
              "min                  0.001143         203.346433   6.745533e+03  \n",
              "25%                  0.056760       30712.031471   2.494540e+07  \n",
              "50%                  0.163697       47560.465474   4.332674e+07  \n",
              "75%                  0.422708       66673.820614   5.933961e+07  \n",
              "max                 83.953727      291781.106613   7.479865e+07  "
            ],
            "text/html": [
              "\n",
              "  <div id=\"df-59cb5b0b-2242-4c38-a6c8-0ece7dd1e85a\" class=\"colab-df-container\">\n",
              "    <div>\n",
              "<style scoped>\n",
              "    .dataframe tbody tr th:only-of-type {\n",
              "        vertical-align: middle;\n",
              "    }\n",
              "\n",
              "    .dataframe tbody tr th {\n",
              "        vertical-align: top;\n",
              "    }\n",
              "\n",
              "    .dataframe thead th {\n",
              "        text-align: right;\n",
              "    }\n",
              "</style>\n",
              "<table border=\"1\" class=\"dataframe\">\n",
              "  <thead>\n",
              "    <tr style=\"text-align: right;\">\n",
              "      <th></th>\n",
              "      <th>neo_id</th>\n",
              "      <th>absolute_magnitude</th>\n",
              "      <th>estimated_diameter_min</th>\n",
              "      <th>estimated_diameter_max</th>\n",
              "      <th>relative_velocity</th>\n",
              "      <th>miss_distance</th>\n",
              "    </tr>\n",
              "  </thead>\n",
              "  <tbody>\n",
              "    <tr>\n",
              "      <th>count</th>\n",
              "      <td>3.381990e+05</td>\n",
              "      <td>338171.000000</td>\n",
              "      <td>338171.000000</td>\n",
              "      <td>338171.000000</td>\n",
              "      <td>338199.000000</td>\n",
              "      <td>3.381990e+05</td>\n",
              "    </tr>\n",
              "    <tr>\n",
              "      <th>mean</th>\n",
              "      <td>1.759939e+07</td>\n",
              "      <td>22.932525</td>\n",
              "      <td>0.157812</td>\n",
              "      <td>0.352878</td>\n",
              "      <td>51060.662908</td>\n",
              "      <td>4.153535e+07</td>\n",
              "    </tr>\n",
              "    <tr>\n",
              "      <th>std</th>\n",
              "      <td>2.287225e+07</td>\n",
              "      <td>2.911216</td>\n",
              "      <td>0.313885</td>\n",
              "      <td>0.701869</td>\n",
              "      <td>26399.238435</td>\n",
              "      <td>2.077399e+07</td>\n",
              "    </tr>\n",
              "    <tr>\n",
              "      <th>min</th>\n",
              "      <td>2.000433e+06</td>\n",
              "      <td>9.250000</td>\n",
              "      <td>0.000511</td>\n",
              "      <td>0.001143</td>\n",
              "      <td>203.346433</td>\n",
              "      <td>6.745533e+03</td>\n",
              "    </tr>\n",
              "    <tr>\n",
              "      <th>25%</th>\n",
              "      <td>3.373980e+06</td>\n",
              "      <td>20.740000</td>\n",
              "      <td>0.025384</td>\n",
              "      <td>0.056760</td>\n",
              "      <td>30712.031471</td>\n",
              "      <td>2.494540e+07</td>\n",
              "    </tr>\n",
              "    <tr>\n",
              "      <th>50%</th>\n",
              "      <td>3.742127e+06</td>\n",
              "      <td>22.800000</td>\n",
              "      <td>0.073207</td>\n",
              "      <td>0.163697</td>\n",
              "      <td>47560.465474</td>\n",
              "      <td>4.332674e+07</td>\n",
              "    </tr>\n",
              "    <tr>\n",
              "      <th>75%</th>\n",
              "      <td>5.405374e+07</td>\n",
              "      <td>25.100000</td>\n",
              "      <td>0.189041</td>\n",
              "      <td>0.422708</td>\n",
              "      <td>66673.820614</td>\n",
              "      <td>5.933961e+07</td>\n",
              "    </tr>\n",
              "    <tr>\n",
              "      <th>max</th>\n",
              "      <td>5.446281e+07</td>\n",
              "      <td>33.580000</td>\n",
              "      <td>37.545248</td>\n",
              "      <td>83.953727</td>\n",
              "      <td>291781.106613</td>\n",
              "      <td>7.479865e+07</td>\n",
              "    </tr>\n",
              "  </tbody>\n",
              "</table>\n",
              "</div>\n",
              "    <div class=\"colab-df-buttons\">\n",
              "\n",
              "  <div class=\"colab-df-container\">\n",
              "    <button class=\"colab-df-convert\" onclick=\"convertToInteractive('df-59cb5b0b-2242-4c38-a6c8-0ece7dd1e85a')\"\n",
              "            title=\"Convert this dataframe to an interactive table.\"\n",
              "            style=\"display:none;\">\n",
              "\n",
              "  <svg xmlns=\"http://www.w3.org/2000/svg\" height=\"24px\" viewBox=\"0 -960 960 960\">\n",
              "    <path d=\"M120-120v-720h720v720H120Zm60-500h600v-160H180v160Zm220 220h160v-160H400v160Zm0 220h160v-160H400v160ZM180-400h160v-160H180v160Zm440 0h160v-160H620v160ZM180-180h160v-160H180v160Zm440 0h160v-160H620v160Z\"/>\n",
              "  </svg>\n",
              "    </button>\n",
              "\n",
              "  <style>\n",
              "    .colab-df-container {\n",
              "      display:flex;\n",
              "      gap: 12px;\n",
              "    }\n",
              "\n",
              "    .colab-df-convert {\n",
              "      background-color: #E8F0FE;\n",
              "      border: none;\n",
              "      border-radius: 50%;\n",
              "      cursor: pointer;\n",
              "      display: none;\n",
              "      fill: #1967D2;\n",
              "      height: 32px;\n",
              "      padding: 0 0 0 0;\n",
              "      width: 32px;\n",
              "    }\n",
              "\n",
              "    .colab-df-convert:hover {\n",
              "      background-color: #E2EBFA;\n",
              "      box-shadow: 0px 1px 2px rgba(60, 64, 67, 0.3), 0px 1px 3px 1px rgba(60, 64, 67, 0.15);\n",
              "      fill: #174EA6;\n",
              "    }\n",
              "\n",
              "    .colab-df-buttons div {\n",
              "      margin-bottom: 4px;\n",
              "    }\n",
              "\n",
              "    [theme=dark] .colab-df-convert {\n",
              "      background-color: #3B4455;\n",
              "      fill: #D2E3FC;\n",
              "    }\n",
              "\n",
              "    [theme=dark] .colab-df-convert:hover {\n",
              "      background-color: #434B5C;\n",
              "      box-shadow: 0px 1px 3px 1px rgba(0, 0, 0, 0.15);\n",
              "      filter: drop-shadow(0px 1px 2px rgba(0, 0, 0, 0.3));\n",
              "      fill: #FFFFFF;\n",
              "    }\n",
              "  </style>\n",
              "\n",
              "    <script>\n",
              "      const buttonEl =\n",
              "        document.querySelector('#df-59cb5b0b-2242-4c38-a6c8-0ece7dd1e85a button.colab-df-convert');\n",
              "      buttonEl.style.display =\n",
              "        google.colab.kernel.accessAllowed ? 'block' : 'none';\n",
              "\n",
              "      async function convertToInteractive(key) {\n",
              "        const element = document.querySelector('#df-59cb5b0b-2242-4c38-a6c8-0ece7dd1e85a');\n",
              "        const dataTable =\n",
              "          await google.colab.kernel.invokeFunction('convertToInteractive',\n",
              "                                                    [key], {});\n",
              "        if (!dataTable) return;\n",
              "\n",
              "        const docLinkHtml = 'Like what you see? Visit the ' +\n",
              "          '<a target=\"_blank\" href=https://colab.research.google.com/notebooks/data_table.ipynb>data table notebook</a>'\n",
              "          + ' to learn more about interactive tables.';\n",
              "        element.innerHTML = '';\n",
              "        dataTable['output_type'] = 'display_data';\n",
              "        await google.colab.output.renderOutput(dataTable, element);\n",
              "        const docLink = document.createElement('div');\n",
              "        docLink.innerHTML = docLinkHtml;\n",
              "        element.appendChild(docLink);\n",
              "      }\n",
              "    </script>\n",
              "  </div>\n",
              "\n",
              "\n",
              "<div id=\"df-8f3c0496-d9d9-4292-af52-48d0888986aa\">\n",
              "  <button class=\"colab-df-quickchart\" onclick=\"quickchart('df-8f3c0496-d9d9-4292-af52-48d0888986aa')\"\n",
              "            title=\"Suggest charts\"\n",
              "            style=\"display:none;\">\n",
              "\n",
              "<svg xmlns=\"http://www.w3.org/2000/svg\" height=\"24px\"viewBox=\"0 0 24 24\"\n",
              "     width=\"24px\">\n",
              "    <g>\n",
              "        <path d=\"M19 3H5c-1.1 0-2 .9-2 2v14c0 1.1.9 2 2 2h14c1.1 0 2-.9 2-2V5c0-1.1-.9-2-2-2zM9 17H7v-7h2v7zm4 0h-2V7h2v10zm4 0h-2v-4h2v4z\"/>\n",
              "    </g>\n",
              "</svg>\n",
              "  </button>\n",
              "\n",
              "<style>\n",
              "  .colab-df-quickchart {\n",
              "      --bg-color: #E8F0FE;\n",
              "      --fill-color: #1967D2;\n",
              "      --hover-bg-color: #E2EBFA;\n",
              "      --hover-fill-color: #174EA6;\n",
              "      --disabled-fill-color: #AAA;\n",
              "      --disabled-bg-color: #DDD;\n",
              "  }\n",
              "\n",
              "  [theme=dark] .colab-df-quickchart {\n",
              "      --bg-color: #3B4455;\n",
              "      --fill-color: #D2E3FC;\n",
              "      --hover-bg-color: #434B5C;\n",
              "      --hover-fill-color: #FFFFFF;\n",
              "      --disabled-bg-color: #3B4455;\n",
              "      --disabled-fill-color: #666;\n",
              "  }\n",
              "\n",
              "  .colab-df-quickchart {\n",
              "    background-color: var(--bg-color);\n",
              "    border: none;\n",
              "    border-radius: 50%;\n",
              "    cursor: pointer;\n",
              "    display: none;\n",
              "    fill: var(--fill-color);\n",
              "    height: 32px;\n",
              "    padding: 0;\n",
              "    width: 32px;\n",
              "  }\n",
              "\n",
              "  .colab-df-quickchart:hover {\n",
              "    background-color: var(--hover-bg-color);\n",
              "    box-shadow: 0 1px 2px rgba(60, 64, 67, 0.3), 0 1px 3px 1px rgba(60, 64, 67, 0.15);\n",
              "    fill: var(--button-hover-fill-color);\n",
              "  }\n",
              "\n",
              "  .colab-df-quickchart-complete:disabled,\n",
              "  .colab-df-quickchart-complete:disabled:hover {\n",
              "    background-color: var(--disabled-bg-color);\n",
              "    fill: var(--disabled-fill-color);\n",
              "    box-shadow: none;\n",
              "  }\n",
              "\n",
              "  .colab-df-spinner {\n",
              "    border: 2px solid var(--fill-color);\n",
              "    border-color: transparent;\n",
              "    border-bottom-color: var(--fill-color);\n",
              "    animation:\n",
              "      spin 1s steps(1) infinite;\n",
              "  }\n",
              "\n",
              "  @keyframes spin {\n",
              "    0% {\n",
              "      border-color: transparent;\n",
              "      border-bottom-color: var(--fill-color);\n",
              "      border-left-color: var(--fill-color);\n",
              "    }\n",
              "    20% {\n",
              "      border-color: transparent;\n",
              "      border-left-color: var(--fill-color);\n",
              "      border-top-color: var(--fill-color);\n",
              "    }\n",
              "    30% {\n",
              "      border-color: transparent;\n",
              "      border-left-color: var(--fill-color);\n",
              "      border-top-color: var(--fill-color);\n",
              "      border-right-color: var(--fill-color);\n",
              "    }\n",
              "    40% {\n",
              "      border-color: transparent;\n",
              "      border-right-color: var(--fill-color);\n",
              "      border-top-color: var(--fill-color);\n",
              "    }\n",
              "    60% {\n",
              "      border-color: transparent;\n",
              "      border-right-color: var(--fill-color);\n",
              "    }\n",
              "    80% {\n",
              "      border-color: transparent;\n",
              "      border-right-color: var(--fill-color);\n",
              "      border-bottom-color: var(--fill-color);\n",
              "    }\n",
              "    90% {\n",
              "      border-color: transparent;\n",
              "      border-bottom-color: var(--fill-color);\n",
              "    }\n",
              "  }\n",
              "</style>\n",
              "\n",
              "  <script>\n",
              "    async function quickchart(key) {\n",
              "      const quickchartButtonEl =\n",
              "        document.querySelector('#' + key + ' button');\n",
              "      quickchartButtonEl.disabled = true;  // To prevent multiple clicks.\n",
              "      quickchartButtonEl.classList.add('colab-df-spinner');\n",
              "      try {\n",
              "        const charts = await google.colab.kernel.invokeFunction(\n",
              "            'suggestCharts', [key], {});\n",
              "      } catch (error) {\n",
              "        console.error('Error during call to suggestCharts:', error);\n",
              "      }\n",
              "      quickchartButtonEl.classList.remove('colab-df-spinner');\n",
              "      quickchartButtonEl.classList.add('colab-df-quickchart-complete');\n",
              "    }\n",
              "    (() => {\n",
              "      let quickchartButtonEl =\n",
              "        document.querySelector('#df-8f3c0496-d9d9-4292-af52-48d0888986aa button');\n",
              "      quickchartButtonEl.style.display =\n",
              "        google.colab.kernel.accessAllowed ? 'block' : 'none';\n",
              "    })();\n",
              "  </script>\n",
              "</div>\n",
              "\n",
              "    </div>\n",
              "  </div>\n"
            ],
            "application/vnd.google.colaboratory.intrinsic+json": {
              "type": "dataframe",
              "summary": "{\n  \"name\": \"df\",\n  \"rows\": 8,\n  \"fields\": [\n    {\n      \"column\": \"neo_id\",\n      \"properties\": {\n        \"dtype\": \"number\",\n        \"std\": 22716782.698697977,\n        \"min\": 338199.0,\n        \"max\": 54462807.0,\n        \"num_unique_values\": 8,\n        \"samples\": [\n          17599388.682018574,\n          3742127.0,\n          338199.0\n        ],\n        \"semantic_type\": \"\",\n        \"description\": \"\"\n      }\n    },\n    {\n      \"column\": \"absolute_magnitude\",\n      \"properties\": {\n        \"dtype\": \"number\",\n        \"std\": 119554.56863782684,\n        \"min\": 2.911216390292293,\n        \"max\": 338171.0,\n        \"num_unique_values\": 8,\n        \"samples\": [\n          22.93252495926617,\n          22.8,\n          338171.0\n        ],\n        \"semantic_type\": \"\",\n        \"description\": \"\"\n      }\n    },\n    {\n      \"column\": \"estimated_diameter_min\",\n      \"properties\": {\n        \"dtype\": \"number\",\n        \"std\": 119559.56966825189,\n        \"min\": 0.0005111578,\n        \"max\": 338171.0,\n        \"num_unique_values\": 8,\n        \"samples\": [\n          0.1578120466605549,\n          0.0732073989,\n          338171.0\n        ],\n        \"semantic_type\": \"\",\n        \"description\": \"\"\n      }\n    },\n    {\n      \"column\": \"estimated_diameter_max\",\n      \"properties\": {\n        \"dtype\": \"number\",\n        \"std\": 119557.18111686174,\n        \"min\": 0.0011429835,\n        \"max\": 338171.0,\n        \"num_unique_values\": 8,\n        \"samples\": [\n          0.3528784640005492,\n          0.1636967205,\n          338171.0\n        ],\n        \"semantic_type\": \"\",\n        \"description\": \"\"\n      }\n    },\n    {\n      \"column\": \"relative_velocity\",\n      \"properties\": {\n        \"dtype\": \"number\",\n        \"std\": 130715.5645630245,\n        \"min\": 203.34643253,\n        \"max\": 338199.0,\n        \"num_unique_values\": 8,\n        \"samples\": [\n          51060.662907595586,\n          47560.4654744848,\n          338199.0\n        ],\n        \"semantic_type\": \"\",\n        \"description\": \"\"\n      }\n    },\n    {\n      \"column\": \"miss_distance\",\n      \"properties\": {\n        \"dtype\": \"number\",\n        \"std\": 26699262.28644739,\n        \"min\": 6745.532515957,\n        \"max\": 74798651.4521972,\n        \"num_unique_values\": 8,\n        \"samples\": [\n          41535350.93219019,\n          43326743.82834823,\n          338199.0\n        ],\n        \"semantic_type\": \"\",\n        \"description\": \"\"\n      }\n    }\n  ]\n}"
            }
          },
          "metadata": {},
          "execution_count": 17
        }
      ]
    },
    {
      "cell_type": "code",
      "source": [
        "df.head()"
      ],
      "metadata": {
        "execution": {
          "iopub.status.busy": "2024-09-19T14:35:00.419308Z",
          "iopub.execute_input": "2024-09-19T14:35:00.419719Z",
          "iopub.status.idle": "2024-09-19T14:35:00.441452Z",
          "shell.execute_reply.started": "2024-09-19T14:35:00.419677Z",
          "shell.execute_reply": "2024-09-19T14:35:00.440072Z"
        },
        "trusted": true,
        "colab": {
          "base_uri": "https://localhost:8080/",
          "height": 206
        },
        "id": "_fW3VES_vv8b",
        "outputId": "c1f309dc-826e-415e-ae14-59297d13ac5f"
      },
      "execution_count": 18,
      "outputs": [
        {
          "output_type": "execute_result",
          "data": {
            "text/plain": [
              "    neo_id                name  absolute_magnitude  estimated_diameter_min  \\\n",
              "0  2162117  162117 (1998 SD15)               19.14                0.394962   \n",
              "1  2349507    349507 (2008 QY)               18.50                0.530341   \n",
              "2  2455415    455415 (2003 GA)               21.45                0.136319   \n",
              "3  3132126           (2002 PB)               20.63                0.198863   \n",
              "4  3557844           (2011 DW)               22.70                0.076658   \n",
              "\n",
              "   estimated_diameter_max orbiting_body  relative_velocity  miss_distance  \\\n",
              "0                0.883161         Earth       71745.401048   5.814362e+07   \n",
              "1                1.185878         Earth      109949.757148   5.580105e+07   \n",
              "2                0.304818         Earth       24865.506798   6.720689e+07   \n",
              "3                0.444672         Earth       78890.076805   3.039644e+07   \n",
              "4                0.171412         Earth       56036.519484   6.311863e+07   \n",
              "\n",
              "   is_hazardous  \n",
              "0         False  \n",
              "1          True  \n",
              "2         False  \n",
              "3         False  \n",
              "4         False  "
            ],
            "text/html": [
              "\n",
              "  <div id=\"df-01e09092-3658-4c78-bdbc-46c12a42728f\" class=\"colab-df-container\">\n",
              "    <div>\n",
              "<style scoped>\n",
              "    .dataframe tbody tr th:only-of-type {\n",
              "        vertical-align: middle;\n",
              "    }\n",
              "\n",
              "    .dataframe tbody tr th {\n",
              "        vertical-align: top;\n",
              "    }\n",
              "\n",
              "    .dataframe thead th {\n",
              "        text-align: right;\n",
              "    }\n",
              "</style>\n",
              "<table border=\"1\" class=\"dataframe\">\n",
              "  <thead>\n",
              "    <tr style=\"text-align: right;\">\n",
              "      <th></th>\n",
              "      <th>neo_id</th>\n",
              "      <th>name</th>\n",
              "      <th>absolute_magnitude</th>\n",
              "      <th>estimated_diameter_min</th>\n",
              "      <th>estimated_diameter_max</th>\n",
              "      <th>orbiting_body</th>\n",
              "      <th>relative_velocity</th>\n",
              "      <th>miss_distance</th>\n",
              "      <th>is_hazardous</th>\n",
              "    </tr>\n",
              "  </thead>\n",
              "  <tbody>\n",
              "    <tr>\n",
              "      <th>0</th>\n",
              "      <td>2162117</td>\n",
              "      <td>162117 (1998 SD15)</td>\n",
              "      <td>19.14</td>\n",
              "      <td>0.394962</td>\n",
              "      <td>0.883161</td>\n",
              "      <td>Earth</td>\n",
              "      <td>71745.401048</td>\n",
              "      <td>5.814362e+07</td>\n",
              "      <td>False</td>\n",
              "    </tr>\n",
              "    <tr>\n",
              "      <th>1</th>\n",
              "      <td>2349507</td>\n",
              "      <td>349507 (2008 QY)</td>\n",
              "      <td>18.50</td>\n",
              "      <td>0.530341</td>\n",
              "      <td>1.185878</td>\n",
              "      <td>Earth</td>\n",
              "      <td>109949.757148</td>\n",
              "      <td>5.580105e+07</td>\n",
              "      <td>True</td>\n",
              "    </tr>\n",
              "    <tr>\n",
              "      <th>2</th>\n",
              "      <td>2455415</td>\n",
              "      <td>455415 (2003 GA)</td>\n",
              "      <td>21.45</td>\n",
              "      <td>0.136319</td>\n",
              "      <td>0.304818</td>\n",
              "      <td>Earth</td>\n",
              "      <td>24865.506798</td>\n",
              "      <td>6.720689e+07</td>\n",
              "      <td>False</td>\n",
              "    </tr>\n",
              "    <tr>\n",
              "      <th>3</th>\n",
              "      <td>3132126</td>\n",
              "      <td>(2002 PB)</td>\n",
              "      <td>20.63</td>\n",
              "      <td>0.198863</td>\n",
              "      <td>0.444672</td>\n",
              "      <td>Earth</td>\n",
              "      <td>78890.076805</td>\n",
              "      <td>3.039644e+07</td>\n",
              "      <td>False</td>\n",
              "    </tr>\n",
              "    <tr>\n",
              "      <th>4</th>\n",
              "      <td>3557844</td>\n",
              "      <td>(2011 DW)</td>\n",
              "      <td>22.70</td>\n",
              "      <td>0.076658</td>\n",
              "      <td>0.171412</td>\n",
              "      <td>Earth</td>\n",
              "      <td>56036.519484</td>\n",
              "      <td>6.311863e+07</td>\n",
              "      <td>False</td>\n",
              "    </tr>\n",
              "  </tbody>\n",
              "</table>\n",
              "</div>\n",
              "    <div class=\"colab-df-buttons\">\n",
              "\n",
              "  <div class=\"colab-df-container\">\n",
              "    <button class=\"colab-df-convert\" onclick=\"convertToInteractive('df-01e09092-3658-4c78-bdbc-46c12a42728f')\"\n",
              "            title=\"Convert this dataframe to an interactive table.\"\n",
              "            style=\"display:none;\">\n",
              "\n",
              "  <svg xmlns=\"http://www.w3.org/2000/svg\" height=\"24px\" viewBox=\"0 -960 960 960\">\n",
              "    <path d=\"M120-120v-720h720v720H120Zm60-500h600v-160H180v160Zm220 220h160v-160H400v160Zm0 220h160v-160H400v160ZM180-400h160v-160H180v160Zm440 0h160v-160H620v160ZM180-180h160v-160H180v160Zm440 0h160v-160H620v160Z\"/>\n",
              "  </svg>\n",
              "    </button>\n",
              "\n",
              "  <style>\n",
              "    .colab-df-container {\n",
              "      display:flex;\n",
              "      gap: 12px;\n",
              "    }\n",
              "\n",
              "    .colab-df-convert {\n",
              "      background-color: #E8F0FE;\n",
              "      border: none;\n",
              "      border-radius: 50%;\n",
              "      cursor: pointer;\n",
              "      display: none;\n",
              "      fill: #1967D2;\n",
              "      height: 32px;\n",
              "      padding: 0 0 0 0;\n",
              "      width: 32px;\n",
              "    }\n",
              "\n",
              "    .colab-df-convert:hover {\n",
              "      background-color: #E2EBFA;\n",
              "      box-shadow: 0px 1px 2px rgba(60, 64, 67, 0.3), 0px 1px 3px 1px rgba(60, 64, 67, 0.15);\n",
              "      fill: #174EA6;\n",
              "    }\n",
              "\n",
              "    .colab-df-buttons div {\n",
              "      margin-bottom: 4px;\n",
              "    }\n",
              "\n",
              "    [theme=dark] .colab-df-convert {\n",
              "      background-color: #3B4455;\n",
              "      fill: #D2E3FC;\n",
              "    }\n",
              "\n",
              "    [theme=dark] .colab-df-convert:hover {\n",
              "      background-color: #434B5C;\n",
              "      box-shadow: 0px 1px 3px 1px rgba(0, 0, 0, 0.15);\n",
              "      filter: drop-shadow(0px 1px 2px rgba(0, 0, 0, 0.3));\n",
              "      fill: #FFFFFF;\n",
              "    }\n",
              "  </style>\n",
              "\n",
              "    <script>\n",
              "      const buttonEl =\n",
              "        document.querySelector('#df-01e09092-3658-4c78-bdbc-46c12a42728f button.colab-df-convert');\n",
              "      buttonEl.style.display =\n",
              "        google.colab.kernel.accessAllowed ? 'block' : 'none';\n",
              "\n",
              "      async function convertToInteractive(key) {\n",
              "        const element = document.querySelector('#df-01e09092-3658-4c78-bdbc-46c12a42728f');\n",
              "        const dataTable =\n",
              "          await google.colab.kernel.invokeFunction('convertToInteractive',\n",
              "                                                    [key], {});\n",
              "        if (!dataTable) return;\n",
              "\n",
              "        const docLinkHtml = 'Like what you see? Visit the ' +\n",
              "          '<a target=\"_blank\" href=https://colab.research.google.com/notebooks/data_table.ipynb>data table notebook</a>'\n",
              "          + ' to learn more about interactive tables.';\n",
              "        element.innerHTML = '';\n",
              "        dataTable['output_type'] = 'display_data';\n",
              "        await google.colab.output.renderOutput(dataTable, element);\n",
              "        const docLink = document.createElement('div');\n",
              "        docLink.innerHTML = docLinkHtml;\n",
              "        element.appendChild(docLink);\n",
              "      }\n",
              "    </script>\n",
              "  </div>\n",
              "\n",
              "\n",
              "<div id=\"df-a0e03bb9-b53b-4ce1-86a8-b9863fd1750a\">\n",
              "  <button class=\"colab-df-quickchart\" onclick=\"quickchart('df-a0e03bb9-b53b-4ce1-86a8-b9863fd1750a')\"\n",
              "            title=\"Suggest charts\"\n",
              "            style=\"display:none;\">\n",
              "\n",
              "<svg xmlns=\"http://www.w3.org/2000/svg\" height=\"24px\"viewBox=\"0 0 24 24\"\n",
              "     width=\"24px\">\n",
              "    <g>\n",
              "        <path d=\"M19 3H5c-1.1 0-2 .9-2 2v14c0 1.1.9 2 2 2h14c1.1 0 2-.9 2-2V5c0-1.1-.9-2-2-2zM9 17H7v-7h2v7zm4 0h-2V7h2v10zm4 0h-2v-4h2v4z\"/>\n",
              "    </g>\n",
              "</svg>\n",
              "  </button>\n",
              "\n",
              "<style>\n",
              "  .colab-df-quickchart {\n",
              "      --bg-color: #E8F0FE;\n",
              "      --fill-color: #1967D2;\n",
              "      --hover-bg-color: #E2EBFA;\n",
              "      --hover-fill-color: #174EA6;\n",
              "      --disabled-fill-color: #AAA;\n",
              "      --disabled-bg-color: #DDD;\n",
              "  }\n",
              "\n",
              "  [theme=dark] .colab-df-quickchart {\n",
              "      --bg-color: #3B4455;\n",
              "      --fill-color: #D2E3FC;\n",
              "      --hover-bg-color: #434B5C;\n",
              "      --hover-fill-color: #FFFFFF;\n",
              "      --disabled-bg-color: #3B4455;\n",
              "      --disabled-fill-color: #666;\n",
              "  }\n",
              "\n",
              "  .colab-df-quickchart {\n",
              "    background-color: var(--bg-color);\n",
              "    border: none;\n",
              "    border-radius: 50%;\n",
              "    cursor: pointer;\n",
              "    display: none;\n",
              "    fill: var(--fill-color);\n",
              "    height: 32px;\n",
              "    padding: 0;\n",
              "    width: 32px;\n",
              "  }\n",
              "\n",
              "  .colab-df-quickchart:hover {\n",
              "    background-color: var(--hover-bg-color);\n",
              "    box-shadow: 0 1px 2px rgba(60, 64, 67, 0.3), 0 1px 3px 1px rgba(60, 64, 67, 0.15);\n",
              "    fill: var(--button-hover-fill-color);\n",
              "  }\n",
              "\n",
              "  .colab-df-quickchart-complete:disabled,\n",
              "  .colab-df-quickchart-complete:disabled:hover {\n",
              "    background-color: var(--disabled-bg-color);\n",
              "    fill: var(--disabled-fill-color);\n",
              "    box-shadow: none;\n",
              "  }\n",
              "\n",
              "  .colab-df-spinner {\n",
              "    border: 2px solid var(--fill-color);\n",
              "    border-color: transparent;\n",
              "    border-bottom-color: var(--fill-color);\n",
              "    animation:\n",
              "      spin 1s steps(1) infinite;\n",
              "  }\n",
              "\n",
              "  @keyframes spin {\n",
              "    0% {\n",
              "      border-color: transparent;\n",
              "      border-bottom-color: var(--fill-color);\n",
              "      border-left-color: var(--fill-color);\n",
              "    }\n",
              "    20% {\n",
              "      border-color: transparent;\n",
              "      border-left-color: var(--fill-color);\n",
              "      border-top-color: var(--fill-color);\n",
              "    }\n",
              "    30% {\n",
              "      border-color: transparent;\n",
              "      border-left-color: var(--fill-color);\n",
              "      border-top-color: var(--fill-color);\n",
              "      border-right-color: var(--fill-color);\n",
              "    }\n",
              "    40% {\n",
              "      border-color: transparent;\n",
              "      border-right-color: var(--fill-color);\n",
              "      border-top-color: var(--fill-color);\n",
              "    }\n",
              "    60% {\n",
              "      border-color: transparent;\n",
              "      border-right-color: var(--fill-color);\n",
              "    }\n",
              "    80% {\n",
              "      border-color: transparent;\n",
              "      border-right-color: var(--fill-color);\n",
              "      border-bottom-color: var(--fill-color);\n",
              "    }\n",
              "    90% {\n",
              "      border-color: transparent;\n",
              "      border-bottom-color: var(--fill-color);\n",
              "    }\n",
              "  }\n",
              "</style>\n",
              "\n",
              "  <script>\n",
              "    async function quickchart(key) {\n",
              "      const quickchartButtonEl =\n",
              "        document.querySelector('#' + key + ' button');\n",
              "      quickchartButtonEl.disabled = true;  // To prevent multiple clicks.\n",
              "      quickchartButtonEl.classList.add('colab-df-spinner');\n",
              "      try {\n",
              "        const charts = await google.colab.kernel.invokeFunction(\n",
              "            'suggestCharts', [key], {});\n",
              "      } catch (error) {\n",
              "        console.error('Error during call to suggestCharts:', error);\n",
              "      }\n",
              "      quickchartButtonEl.classList.remove('colab-df-spinner');\n",
              "      quickchartButtonEl.classList.add('colab-df-quickchart-complete');\n",
              "    }\n",
              "    (() => {\n",
              "      let quickchartButtonEl =\n",
              "        document.querySelector('#df-a0e03bb9-b53b-4ce1-86a8-b9863fd1750a button');\n",
              "      quickchartButtonEl.style.display =\n",
              "        google.colab.kernel.accessAllowed ? 'block' : 'none';\n",
              "    })();\n",
              "  </script>\n",
              "</div>\n",
              "\n",
              "    </div>\n",
              "  </div>\n"
            ],
            "application/vnd.google.colaboratory.intrinsic+json": {
              "type": "dataframe",
              "variable_name": "df"
            }
          },
          "metadata": {},
          "execution_count": 18
        }
      ]
    },
    {
      "cell_type": "code",
      "source": [
        "plt.figure(figsize=(10, 6))\n",
        "plt.hist(df['miss_distance'], bins=30, color='skyblue', edgecolor='black')\n",
        "plt.title('Miss Distance Distribution of Near-Earth Objects')\n",
        "plt.xlabel('Miss Distance (km)')\n",
        "plt.ylabel('Frequency')\n",
        "plt.show()"
      ],
      "metadata": {
        "execution": {
          "iopub.status.busy": "2024-09-19T14:35:00.44588Z",
          "iopub.execute_input": "2024-09-19T14:35:00.446459Z",
          "iopub.status.idle": "2024-09-19T14:35:00.851569Z",
          "shell.execute_reply.started": "2024-09-19T14:35:00.446407Z",
          "shell.execute_reply": "2024-09-19T14:35:00.850318Z"
        },
        "trusted": true,
        "colab": {
          "base_uri": "https://localhost:8080/",
          "height": 564
        },
        "id": "fjhA10XYvv8c",
        "outputId": "ec58564b-f6ae-46c0-f1d0-9bf8dbb232c4"
      },
      "execution_count": 19,
      "outputs": [
        {
          "output_type": "display_data",
          "data": {
            "text/plain": [
              "<Figure size 1000x600 with 1 Axes>"
            ],
            "image/png": "[encoded data removed]"
          },
          "metadata": {}
        }
      ]
    },
    {
      "cell_type": "code",
      "source": [
        "nearest_objects = df.nsmallest(10, 'miss_distance')\n",
        "print(nearest_objects[['name', 'miss_distance']])\n"
      ],
      "metadata": {
        "execution": {
          "iopub.status.busy": "2024-09-19T14:35:00.853148Z",
          "iopub.execute_input": "2024-09-19T14:35:00.853721Z",
          "iopub.status.idle": "2024-09-19T14:35:00.888594Z",
          "shell.execute_reply.started": "2024-09-19T14:35:00.853666Z",
          "shell.execute_reply": "2024-09-19T14:35:00.887317Z"
        },
        "trusted": true,
        "colab": {
          "base_uri": "https://localhost:8080/"
        },
        "id": "1DWaqXbSvv8c",
        "outputId": "643ac632-576e-475b-dd93-66e8184b0707"
      },
      "execution_count": 20,
      "outputs": [
        {
          "output_type": "stream",
          "name": "stdout",
          "text": [
            "                name  miss_distance\n",
            "311949    (2020 VT4)    6745.532516\n",
            "337757    (2024 LH1)    8098.256296\n",
            "309768     (2020 QG)    9316.925424\n",
            "318864    (2021 UA1)    9426.685381\n",
            "327999     (2023 BU)    9966.973049\n",
            "331394     (2023 RS)   10361.043758\n",
            "277775    (2011 CQ1)   11851.666854\n",
            "271398   (2008 TS26)   12638.162696\n",
            "257710  (2004 FU162)   12913.138541\n",
            "307584     (2020 JJ)   13403.654996\n"
          ]
        }
      ]
    },
    {
      "cell_type": "code",
      "source": [
        "plt.figure(figsize=(10, 6))\n",
        "plt.scatter(df['miss_distance'], df['estimated_diameter_max'], color='coral')\n",
        "plt.title('Miss Distance vs. Estimated Diameter')\n",
        "plt.xlabel('Miss Distance (km)')\n",
        "plt.ylabel('Estimated Diameter Max (km)')\n",
        "plt.show()\n"
      ],
      "metadata": {
        "execution": {
          "iopub.status.busy": "2024-09-19T14:35:00.890018Z",
          "iopub.execute_input": "2024-09-19T14:35:00.890414Z",
          "iopub.status.idle": "2024-09-19T14:35:01.920646Z",
          "shell.execute_reply.started": "2024-09-19T14:35:00.890372Z",
          "shell.execute_reply": "2024-09-19T14:35:01.91937Z"
        },
        "trusted": true,
        "colab": {
          "base_uri": "https://localhost:8080/",
          "height": 564
        },
        "id": "Xef5Y5SEvv8d",
        "outputId": "99ee3eaf-d25c-42ce-abf0-9970da8f9ff6"
      },
      "execution_count": 21,
      "outputs": [
        {
          "output_type": "display_data",
          "data": {
            "text/plain": [
              "<Figure size 1000x600 with 1 Axes>"
            ],
            "image/png": "[encoded data removed]"
          },
          "metadata": {}
        }
      ]
    },
    {
      "cell_type": "code",
      "source": [
        "plt.figure(figsize=(10, 6))\n",
        "sns.boxplot(x='is_hazardous', y='miss_distance', data=df)\n",
        "plt.title('Miss Distance vs. Is Hazardous')\n",
        "plt.xlabel('Is Hazardous')\n",
        "plt.ylabel('Miss Distance (km)')\n",
        "plt.show()\n"
      ],
      "metadata": {
        "execution": {
          "iopub.status.busy": "2024-09-19T14:35:01.922484Z",
          "iopub.execute_input": "2024-09-19T14:35:01.923009Z",
          "iopub.status.idle": "2024-09-19T14:35:02.269838Z",
          "shell.execute_reply.started": "2024-09-19T14:35:01.922954Z",
          "shell.execute_reply": "2024-09-19T14:35:02.268571Z"
        },
        "trusted": true,
        "colab": {
          "base_uri": "https://localhost:8080/",
          "height": 564
        },
        "id": "zqng__b4vv8d",
        "outputId": "5d404a15-1fe6-49c7-8aa4-79c4b33f4ff0"
      },
      "execution_count": 22,
      "outputs": [
        {
          "output_type": "display_data",
          "data": {
            "text/plain": [
              "<Figure size 1000x600 with 1 Axes>"
            ],
            "image/png": "[encoded data removed]"
          },
          "metadata": {}
        }
      ]
    },
    {
      "cell_type": "code",
      "source": [
        "# Eksik verileri temizleme (eğer varsa)\n",
        "df = df.dropna()\n",
        "\n",
        "# Gerekli kütüphaneleri yükleme\n",
        "from sklearn.model_selection import train_test_split\n",
        "from sklearn.linear_model import LogisticRegression\n",
        "from sklearn.metrics import accuracy_score, confusion_matrix, classification_report"
      ],
      "metadata": {
        "execution": {
          "iopub.status.busy": "2024-09-19T14:35:02.27148Z",
          "iopub.execute_input": "2024-09-19T14:35:02.271889Z",
          "iopub.status.idle": "2024-09-19T14:35:02.376588Z",
          "shell.execute_reply.started": "2024-09-19T14:35:02.271848Z",
          "shell.execute_reply": "2024-09-19T14:35:02.375172Z"
        },
        "trusted": true,
        "id": "w-zMdbk1vv8e"
      },
      "execution_count": 23,
      "outputs": []
    },
    {
      "cell_type": "code",
      "source": [
        "# Gök cisimlerinin Dünya için tehlikeli olup olmadığını anlama\n",
        "# Özellikler ve hedef değişkeni seçme\n",
        "X = df[['relative_velocity', 'miss_distance', 'estimated_diameter_min', 'estimated_diameter_max']]\n",
        "y = df['is_hazardous']"
      ],
      "metadata": {
        "execution": {
          "iopub.status.busy": "2024-09-19T14:35:02.378554Z",
          "iopub.execute_input": "2024-09-19T14:35:02.379138Z",
          "iopub.status.idle": "2024-09-19T14:35:02.389291Z",
          "shell.execute_reply.started": "2024-09-19T14:35:02.379079Z",
          "shell.execute_reply": "2024-09-19T14:35:02.387681Z"
        },
        "trusted": true,
        "id": "Jmk4j6q8vv8e"
      },
      "execution_count": 24,
      "outputs": []
    },
    {
      "cell_type": "code",
      "source": [
        "# Veriyi %80 eğitim, %20 test seti olacak şekilde bölme\n",
        "X_train, X_test, y_train, y_test = train_test_split(X, y, test_size=0.2, random_state=42)"
      ],
      "metadata": {
        "execution": {
          "iopub.status.busy": "2024-09-19T14:35:02.391288Z",
          "iopub.execute_input": "2024-09-19T14:35:02.392252Z",
          "iopub.status.idle": "2024-09-19T14:35:02.435892Z",
          "shell.execute_reply.started": "2024-09-19T14:35:02.392197Z",
          "shell.execute_reply": "2024-09-19T14:35:02.434223Z"
        },
        "trusted": true,
        "id": "Dj77ObExvv8f"
      },
      "execution_count": 25,
      "outputs": []
    },
    {
      "cell_type": "code",
      "source": [
        "# Lojistik regresyon modelini oluşturup ve eğitme\n",
        "model = LogisticRegression()\n",
        "model.fit(X_train, y_train)"
      ],
      "metadata": {
        "execution": {
          "iopub.status.busy": "2024-09-19T14:35:02.437564Z",
          "iopub.execute_input": "2024-09-19T14:35:02.438093Z",
          "iopub.status.idle": "2024-09-19T14:35:02.924077Z",
          "shell.execute_reply.started": "2024-09-19T14:35:02.438036Z",
          "shell.execute_reply": "2024-09-19T14:35:02.922875Z"
        },
        "trusted": true,
        "colab": {
          "base_uri": "https://localhost:8080/",
          "height": 74
        },
        "id": "ql6aNphEvv8f",
        "outputId": "147e2ffb-f09c-4d7a-8be4-82e6619936a7"
      },
      "execution_count": 26,
      "outputs": [
        {
          "output_type": "execute_result",
          "data": {
            "text/plain": [
              "LogisticRegression()"
            ],
            "text/html": [
              "<style>#sk-container-id-1 {color: black;}#sk-container-id-1 pre{padding: 0;}#sk-container-id-1 div.sk-toggleable {background-color: white;}#sk-container-id-1 label.sk-toggleable__label {cursor: pointer;display: block;width: 100%;margin-bottom: 0;padding: 0.3em;box-sizing: border-box;text-align: center;}#sk-container-id-1 label.sk-toggleable__label-arrow:before {content: \"▸\";float: left;margin-right: 0.25em;color: #696969;}#sk-container-id-1 label.sk-toggleable__label-arrow:hover:before {color: black;}#sk-container-id-1 div.sk-estimator:hover label.sk-toggleable__label-arrow:before {color: black;}#sk-container-id-1 div.sk-toggleable__content {max-height: 0;max-width: 0;overflow: hidden;text-align: left;background-color: #f0f8ff;}#sk-container-id-1 div.sk-toggleable__content pre {margin: 0.2em;color: black;border-radius: 0.25em;background-color: #f0f8ff;}#sk-container-id-1 input.sk-toggleable__control:checked~div.sk-toggleable__content {max-height: 200px;max-width: 100%;overflow: auto;}#sk-container-id-1 input.sk-toggleable__control:checked~label.sk-toggleable__label-arrow:before {content: \"▾\";}#sk-container-id-1 div.sk-estimator input.sk-toggleable__control:checked~label.sk-toggleable__label {background-color: #d4ebff;}#sk-container-id-1 div.sk-label input.sk-toggleable__control:checked~label.sk-toggleable__label {background-color: #d4ebff;}#sk-container-id-1 input.sk-hidden--visually {border: 0;clip: rect(1px 1px 1px 1px);clip: rect(1px, 1px, 1px, 1px);height: 1px;margin: -1px;overflow: hidden;padding: 0;position: absolute;width: 1px;}#sk-container-id-1 div.sk-estimator {font-family: monospace;background-color: #f0f8ff;border: 1px dotted black;border-radius: 0.25em;box-sizing: border-box;margin-bottom: 0.5em;}#sk-container-id-1 div.sk-estimator:hover {background-color: #d4ebff;}#sk-container-id-1 div.sk-parallel-item::after {content: \"\";width: 100%;border-bottom: 1px solid gray;flex-grow: 1;}#sk-container-id-1 div.sk-label:hover label.sk-toggleable__label {background-color: #d4ebff;}#sk-container-id-1 div.sk-serial::before {content: \"\";position: absolute;border-left: 1px solid gray;box-sizing: border-box;top: 0;bottom: 0;left: 50%;z-index: 0;}#sk-container-id-1 div.sk-serial {display: flex;flex-direction: column;align-items: center;background-color: white;padding-right: 0.2em;padding-left: 0.2em;position: relative;}#sk-container-id-1 div.sk-item {position: relative;z-index: 1;}#sk-container-id-1 div.sk-parallel {display: flex;align-items: stretch;justify-content: center;background-color: white;position: relative;}#sk-container-id-1 div.sk-item::before, #sk-container-id-1 div.sk-parallel-item::before {content: \"\";position: absolute;border-left: 1px solid gray;box-sizing: border-box;top: 0;bottom: 0;left: 50%;z-index: -1;}#sk-container-id-1 div.sk-parallel-item {display: flex;flex-direction: column;z-index: 1;position: relative;background-color: white;}#sk-container-id-1 div.sk-parallel-item:first-child::after {align-self: flex-end;width: 50%;}#sk-container-id-1 div.sk-parallel-item:last-child::after {align-self: flex-start;width: 50%;}#sk-container-id-1 div.sk-parallel-item:only-child::after {width: 0;}#sk-container-id-1 div.sk-dashed-wrapped {border: 1px dashed gray;margin: 0 0.4em 0.5em 0.4em;box-sizing: border-box;padding-bottom: 0.4em;background-color: white;}#sk-container-id-1 div.sk-label label {font-family: monospace;font-weight: bold;display: inline-block;line-height: 1.2em;}#sk-container-id-1 div.sk-label-container {text-align: center;}#sk-container-id-1 div.sk-container {/* jupyter's `normalize.less` sets `[hidden] { display: none; }` but bootstrap.min.css set `[hidden] { display: none !important; }` so we also need the `!important` here to be able to override the default hidden behavior on the sphinx rendered scikit-learn.org. See: https://github.com/scikit-learn/scikit-learn/issues/21755 */display: inline-block !important;position: relative;}#sk-container-id-1 div.sk-text-repr-fallback {display: none;}</style><div id=\"sk-container-id-1\" class=\"sk-top-container\"><div class=\"sk-text-repr-fallback\"><pre>LogisticRegression()</pre><b>In a Jupyter environment, please rerun this cell to show the HTML representation or trust the notebook. <br />On GitHub, the HTML representation is unable to render, please try loading this page with nbviewer.org.</b></div><div class=\"sk-container\" hidden><div class=\"sk-item\"><div class=\"sk-estimator sk-toggleable\"><input class=\"sk-toggleable__control sk-hidden--visually\" id=\"sk-estimator-id-1\" type=\"checkbox\" checked><label for=\"sk-estimator-id-1\" class=\"sk-toggleable__label sk-toggleable__label-arrow\">LogisticRegression</label><div class=\"sk-toggleable__content\"><pre>LogisticRegression()</pre></div></div></div></div></div>"
            ]
          },
          "metadata": {},
          "execution_count": 26
        }
      ]
    },
    {
      "cell_type": "code",
      "source": [
        "# Test seti ile tahmin yapma\n",
        "y_pred = model.predict(X_test)\n",
        "\n",
        "# Doğruluk oranı\n",
        "accuracy = accuracy_score(y_test, y_pred)\n",
        "print(f\"Doğruluk oranı: {accuracy:.2f}\")\n",
        "\n",
        "# Karışıklık matrisi ve sınıflandırma raporu\n",
        "conf_matrix = confusion_matrix(y_test, y_pred)\n",
        "print(\"Karışıklık Matrisi:\\n\", conf_matrix)\n",
        "\n",
        "classification_rep = classification_report(y_test, y_pred)\n",
        "print(\"Sınıflandırma Raporu:\\n\", classification_rep)"
      ],
      "metadata": {
        "execution": {
          "iopub.status.busy": "2024-09-19T14:35:02.925757Z",
          "iopub.execute_input": "2024-09-19T14:35:02.926788Z",
          "iopub.status.idle": "2024-09-19T14:35:03.12201Z",
          "shell.execute_reply.started": "2024-09-19T14:35:02.92673Z",
          "shell.execute_reply": "2024-09-19T14:35:03.120791Z"
        },
        "trusted": true,
        "colab": {
          "base_uri": "https://localhost:8080/"
        },
        "id": "unvulVb4vv8f",
        "outputId": "bfff5d5f-62d4-45b0-dcd5-b50edc598185"
      },
      "execution_count": 27,
      "outputs": [
        {
          "output_type": "stream",
          "name": "stdout",
          "text": [
            "Doğruluk oranı: 0.87\n",
            "Karışıklık Matrisi:\n",
            " [[59088     0]\n",
            " [ 8547     0]]\n",
            "Sınıflandırma Raporu:\n",
            "               precision    recall  f1-score   support\n",
            "\n",
            "       False       0.87      1.00      0.93     59088\n",
            "        True       0.00      0.00      0.00      8547\n",
            "\n",
            "    accuracy                           0.87     67635\n",
            "   macro avg       0.44      0.50      0.47     67635\n",
            "weighted avg       0.76      0.87      0.81     67635\n",
            "\n"
          ]
        },
        {
          "output_type": "stream",
          "name": "stderr",
          "text": [
            "/usr/local/lib/python3.10/dist-packages/sklearn/metrics/_classification.py:1471: UndefinedMetricWarning: Precision and F-score are ill-defined and being set to 0.0 in labels with no predicted samples. Use `zero_division` parameter to control this behavior.\n",
            "  _warn_prf(average, modifier, msg_start, len(result))\n",
            "/usr/local/lib/python3.10/dist-packages/sklearn/metrics/_classification.py:1471: UndefinedMetricWarning: Precision and F-score are ill-defined and being set to 0.0 in labels with no predicted samples. Use `zero_division` parameter to control this behavior.\n",
            "  _warn_prf(average, modifier, msg_start, len(result))\n",
            "/usr/local/lib/python3.10/dist-packages/sklearn/metrics/_classification.py:1471: UndefinedMetricWarning: Precision and F-score are ill-defined and being set to 0.0 in labels with no predicted samples. Use `zero_division` parameter to control this behavior.\n",
            "  _warn_prf(average, modifier, msg_start, len(result))\n"
          ]
        }
      ]
    },
    {
      "cell_type": "markdown",
      "source": [
        "bu sonuç modelin yalnızca \"tehlikeli olmayan\" (False) sınıfı iyi tahmin ettiğini, ancak \"tehlikeli\" (True) sınıfını hiç tahmin edemediğini gösteriyor.\n",
        "\n",
        "Sorun Analizi:\n",
        "  Doğruluk oranı (Accuracy: 0.87): Model, genel doğruluk açısından oldukça iyi görünüyor. Ancak bu yanıltıcı olabilir çünkü veri setindeki dengesizlik nedeniyle tehlikeli olmayan nesneleri tahmin etmek daha kolay.\n",
        "  Karışıklık Matrisi:\n",
        "[59088, 0]: Model 59,088 adet tehlikeli olmayan gök cismini doğru tahmin etti (True Negatives).\n",
        "[8547, 0]: Model hiçbir tehlikeli gök cismini doğru tahmin edemedi (False Negatives), yani model, tehlikeli olan nesneleri \"tehlikeli değil\" olarak sınıflandırdı.\n",
        "  Sınıflandırma Raporu:\n",
        "  \n",
        "Precision, Recall, F1-score: Tehlikeli nesneler için (True sınıfı) bu metrikler 0.00 olarak görünüyor, çünkü model bu sınıf için hiç tahmin yapamadı.\n",
        "\n",
        "Bu sonuçlar, veri setinde dengesizlik olduğunu gösteriyor. Yani, tehlikeli (True) olan nesneler veri setinde çok az bulunuyor olabilir, bu da modelin sadece tehlikeli olmayan sınıfa odaklanmasına neden olmuş."
      ],
      "metadata": {
        "id": "owgLq5oEvv8f"
      }
    },
    {
      "cell_type": "code",
      "source": [
        "print(df['is_hazardous'].value_counts())"
      ],
      "metadata": {
        "execution": {
          "iopub.status.busy": "2024-09-19T14:35:03.127533Z",
          "iopub.execute_input": "2024-09-19T14:35:03.128091Z",
          "iopub.status.idle": "2024-09-19T14:35:03.138558Z",
          "shell.execute_reply.started": "2024-09-19T14:35:03.128032Z",
          "shell.execute_reply": "2024-09-19T14:35:03.137199Z"
        },
        "trusted": true,
        "colab": {
          "base_uri": "https://localhost:8080/"
        },
        "id": "7f_Ygpaevv8g",
        "outputId": "d8f534af-cbd8-42be-b93a-c8858694e98d"
      },
      "execution_count": 28,
      "outputs": [
        {
          "output_type": "stream",
          "name": "stdout",
          "text": [
            "is_hazardous\n",
            "False    295009\n",
            "True      43162\n",
            "Name: count, dtype: int64\n"
          ]
        }
      ]
    },
    {
      "cell_type": "code",
      "source": [
        "# Veri Dengesizliğini Çözmek İçin Aşağıdaki Yöntemlerden Biri Olan SMOTE kullanımı\n",
        "\n",
        "from imblearn.over_sampling import SMOTE\n",
        "\n",
        "smote = SMOTE(random_state=42)\n",
        "X_res, y_res = smote.fit_resample(X_train, y_train)"
      ],
      "metadata": {
        "execution": {
          "iopub.status.busy": "2024-09-19T14:35:03.140554Z",
          "iopub.execute_input": "2024-09-19T14:35:03.141083Z",
          "iopub.status.idle": "2024-09-19T14:35:03.368654Z",
          "shell.execute_reply.started": "2024-09-19T14:35:03.141023Z",
          "shell.execute_reply": "2024-09-19T14:35:03.367344Z"
        },
        "trusted": true,
        "id": "iRhloMeRvv8g"
      },
      "execution_count": 29,
      "outputs": []
    },
    {
      "cell_type": "code",
      "source": [
        "# Lojistik regresyon modelini yeniden eğitme\n",
        "model = LogisticRegression()\n",
        "model.fit(X_res, y_res)"
      ],
      "metadata": {
        "execution": {
          "iopub.status.busy": "2024-09-19T14:35:03.370313Z",
          "iopub.execute_input": "2024-09-19T14:35:03.37086Z",
          "iopub.status.idle": "2024-09-19T14:35:04.50194Z",
          "shell.execute_reply.started": "2024-09-19T14:35:03.370803Z",
          "shell.execute_reply": "2024-09-19T14:35:04.500127Z"
        },
        "trusted": true,
        "colab": {
          "base_uri": "https://localhost:8080/",
          "height": 74
        },
        "id": "BOw-pNXzvv8h",
        "outputId": "612ec7f7-b7a1-4a23-8c92-5abb84e57437"
      },
      "execution_count": 30,
      "outputs": [
        {
          "output_type": "execute_result",
          "data": {
            "text/plain": [
              "LogisticRegression()"
            ],
            "text/html": [
              "<style>#sk-container-id-2 {color: black;}#sk-container-id-2 pre{padding: 0;}#sk-container-id-2 div.sk-toggleable {background-color: white;}#sk-container-id-2 label.sk-toggleable__label {cursor: pointer;display: block;width: 100%;margin-bottom: 0;padding: 0.3em;box-sizing: border-box;text-align: center;}#sk-container-id-2 label.sk-toggleable__label-arrow:before {content: \"▸\";float: left;margin-right: 0.25em;color: #696969;}#sk-container-id-2 label.sk-toggleable__label-arrow:hover:before {color: black;}#sk-container-id-2 div.sk-estimator:hover label.sk-toggleable__label-arrow:before {color: black;}#sk-container-id-2 div.sk-toggleable__content {max-height: 0;max-width: 0;overflow: hidden;text-align: left;background-color: #f0f8ff;}#sk-container-id-2 div.sk-toggleable__content pre {margin: 0.2em;color: black;border-radius: 0.25em;background-color: #f0f8ff;}#sk-container-id-2 input.sk-toggleable__control:checked~div.sk-toggleable__content {max-height: 200px;max-width: 100%;overflow: auto;}#sk-container-id-2 input.sk-toggleable__control:checked~label.sk-toggleable__label-arrow:before {content: \"▾\";}#sk-container-id-2 div.sk-estimator input.sk-toggleable__control:checked~label.sk-toggleable__label {background-color: #d4ebff;}#sk-container-id-2 div.sk-label input.sk-toggleable__control:checked~label.sk-toggleable__label {background-color: #d4ebff;}#sk-container-id-2 input.sk-hidden--visually {border: 0;clip: rect(1px 1px 1px 1px);clip: rect(1px, 1px, 1px, 1px);height: 1px;margin: -1px;overflow: hidden;padding: 0;position: absolute;width: 1px;}#sk-container-id-2 div.sk-estimator {font-family: monospace;background-color: #f0f8ff;border: 1px dotted black;border-radius: 0.25em;box-sizing: border-box;margin-bottom: 0.5em;}#sk-container-id-2 div.sk-estimator:hover {background-color: #d4ebff;}#sk-container-id-2 div.sk-parallel-item::after {content: \"\";width: 100%;border-bottom: 1px solid gray;flex-grow: 1;}#sk-container-id-2 div.sk-label:hover label.sk-toggleable__label {background-color: #d4ebff;}#sk-container-id-2 div.sk-serial::before {content: \"\";position: absolute;border-left: 1px solid gray;box-sizing: border-box;top: 0;bottom: 0;left: 50%;z-index: 0;}#sk-container-id-2 div.sk-serial {display: flex;flex-direction: column;align-items: center;background-color: white;padding-right: 0.2em;padding-left: 0.2em;position: relative;}#sk-container-id-2 div.sk-item {position: relative;z-index: 1;}#sk-container-id-2 div.sk-parallel {display: flex;align-items: stretch;justify-content: center;background-color: white;position: relative;}#sk-container-id-2 div.sk-item::before, #sk-container-id-2 div.sk-parallel-item::before {content: \"\";position: absolute;border-left: 1px solid gray;box-sizing: border-box;top: 0;bottom: 0;left: 50%;z-index: -1;}#sk-container-id-2 div.sk-parallel-item {display: flex;flex-direction: column;z-index: 1;position: relative;background-color: white;}#sk-container-id-2 div.sk-parallel-item:first-child::after {align-self: flex-end;width: 50%;}#sk-container-id-2 div.sk-parallel-item:last-child::after {align-self: flex-start;width: 50%;}#sk-container-id-2 div.sk-parallel-item:only-child::after {width: 0;}#sk-container-id-2 div.sk-dashed-wrapped {border: 1px dashed gray;margin: 0 0.4em 0.5em 0.4em;box-sizing: border-box;padding-bottom: 0.4em;background-color: white;}#sk-container-id-2 div.sk-label label {font-family: monospace;font-weight: bold;display: inline-block;line-height: 1.2em;}#sk-container-id-2 div.sk-label-container {text-align: center;}#sk-container-id-2 div.sk-container {/* jupyter's `normalize.less` sets `[hidden] { display: none; }` but bootstrap.min.css set `[hidden] { display: none !important; }` so we also need the `!important` here to be able to override the default hidden behavior on the sphinx rendered scikit-learn.org. See: https://github.com/scikit-learn/scikit-learn/issues/21755 */display: inline-block !important;position: relative;}#sk-container-id-2 div.sk-text-repr-fallback {display: none;}</style><div id=\"sk-container-id-2\" class=\"sk-top-container\"><div class=\"sk-text-repr-fallback\"><pre>LogisticRegression()</pre><b>In a Jupyter environment, please rerun this cell to show the HTML representation or trust the notebook. <br />On GitHub, the HTML representation is unable to render, please try loading this page with nbviewer.org.</b></div><div class=\"sk-container\" hidden><div class=\"sk-item\"><div class=\"sk-estimator sk-toggleable\"><input class=\"sk-toggleable__control sk-hidden--visually\" id=\"sk-estimator-id-2\" type=\"checkbox\" checked><label for=\"sk-estimator-id-2\" class=\"sk-toggleable__label sk-toggleable__label-arrow\">LogisticRegression</label><div class=\"sk-toggleable__content\"><pre>LogisticRegression()</pre></div></div></div></div></div>"
            ]
          },
          "metadata": {},
          "execution_count": 30
        }
      ]
    },
    {
      "cell_type": "code",
      "source": [
        "# Test seti ile tahmin yap\n",
        "y_pred = model.predict(X_test)\n",
        "\n",
        "# Doğruluk oranını kontrol et\n",
        "accuracy = accuracy_score(y_test, y_pred)\n",
        "print(f\"Doğruluk oranı: {accuracy:.2f}\")"
      ],
      "metadata": {
        "execution": {
          "iopub.status.busy": "2024-09-19T14:35:04.504196Z",
          "iopub.execute_input": "2024-09-19T14:35:04.505375Z",
          "iopub.status.idle": "2024-09-19T14:35:04.538288Z",
          "shell.execute_reply.started": "2024-09-19T14:35:04.505277Z",
          "shell.execute_reply": "2024-09-19T14:35:04.536698Z"
        },
        "trusted": true,
        "colab": {
          "base_uri": "https://localhost:8080/"
        },
        "id": "cqOrzJgTvv8h",
        "outputId": "7373f929-69d0-4897-e81e-3d02e51697be"
      },
      "execution_count": 31,
      "outputs": [
        {
          "output_type": "stream",
          "name": "stdout",
          "text": [
            "Doğruluk oranı: 0.52\n"
          ]
        }
      ]
    },
    {
      "cell_type": "code",
      "source": [
        "# Karışıklık matrisi ve sınıflandırma raporu\n",
        "conf_matrix = confusion_matrix(y_test, y_pred)\n",
        "print(\"Karışıklık Matrisi:\\n\", conf_matrix)\n",
        "\n",
        "classification_rep = classification_report(y_test, y_pred)\n",
        "print(\"Sınıflandırma Raporu:\\n\", classification_rep)\n",
        "\n",
        "# ROC-AUC Skoru\n",
        "from sklearn.metrics import roc_auc_score\n",
        "auc = roc_auc_score(y_test, y_pred)\n",
        "print(f\"ROC-AUC Skoru: {auc:.2f}\")"
      ],
      "metadata": {
        "execution": {
          "iopub.status.busy": "2024-09-19T14:35:04.540418Z",
          "iopub.execute_input": "2024-09-19T14:35:04.541534Z",
          "iopub.status.idle": "2024-09-19T14:35:04.755306Z",
          "shell.execute_reply.started": "2024-09-19T14:35:04.541436Z",
          "shell.execute_reply": "2024-09-19T14:35:04.754041Z"
        },
        "trusted": true,
        "colab": {
          "base_uri": "https://localhost:8080/"
        },
        "id": "ML5yJUJBvv8h",
        "outputId": "9eb7c8a6-ac8a-465b-bd30-daea469e16fc"
      },
      "execution_count": 32,
      "outputs": [
        {
          "output_type": "stream",
          "name": "stdout",
          "text": [
            "Karışıklık Matrisi:\n",
            " [[29384 29704]\n",
            " [ 2704  5843]]\n",
            "Sınıflandırma Raporu:\n",
            "               precision    recall  f1-score   support\n",
            "\n",
            "       False       0.92      0.50      0.64     59088\n",
            "        True       0.16      0.68      0.27      8547\n",
            "\n",
            "    accuracy                           0.52     67635\n",
            "   macro avg       0.54      0.59      0.45     67635\n",
            "weighted avg       0.82      0.52      0.60     67635\n",
            "\n",
            "ROC-AUC Skoru: 0.59\n"
          ]
        }
      ]
    },
    {
      "cell_type": "markdown",
      "source": [
        "Tüm veri setini kullanmak yerine, daha küçük bir veri alt kümesiyle çalışarak süreci hızlandıralım."
      ],
      "metadata": {
        "id": "GJRuLHWTDmfL"
      }
    },
    {
      "cell_type": "code",
      "source": [
        "# Veri setinin %10'unu kullanarak alt küme oluşturma\n",
        "X_small = X_res.sample(frac=0.1, random_state=42)\n",
        "y_small = y_res[X_small.index]"
      ],
      "metadata": {
        "id": "0FOciDQKDTYs"
      },
      "execution_count": 37,
      "outputs": []
    },
    {
      "cell_type": "markdown",
      "source": [
        "Sadece 1 Kat Çapraz Doğrulama (Hold-Out):"
      ],
      "metadata": {
        "id": "-h6Z8Ho2Dwdq"
      }
    },
    {
      "cell_type": "code",
      "source": [
        "from sklearn.model_selection import train_test_split\n",
        "from sklearn.metrics import roc_auc_score\n",
        "\n",
        "# Veri setini eğitim ve test olarak böl\n",
        "X_train, X_test, y_train, y_test = train_test_split(X_res, y_res, test_size=0.2, random_state=42)\n",
        "\n",
        "# Modeli eğit ve test et\n",
        "rf_model = RandomForestClassifier(n_estimators=10, random_state=42)\n",
        "rf_model.fit(X_train, y_train)\n",
        "y_pred = rf_model.predict(X_test)\n",
        "\n",
        "# ROC-AUC Skorunu hesapla\n",
        "roc_auc = roc_auc_score(y_test, y_pred)\n",
        "print(f\"ROC-AUC Skoru: {roc_auc:.2f}\")"
      ],
      "metadata": {
        "colab": {
          "base_uri": "https://localhost:8080/"
        },
        "id": "2zBvXYPpDabY",
        "outputId": "67769970-35b7-4a6f-ea2c-3bb23430ecba"
      },
      "execution_count": 38,
      "outputs": [
        {
          "output_type": "stream",
          "name": "stdout",
          "text": [
            "ROC-AUC Skoru: 0.92\n"
          ]
        }
      ]
    },
    {
      "cell_type": "markdown",
      "source": [
        "ROC-AUC skorunun 0.92 çıkması oldukça iyi bir sonuç! Bu, modelinin pozitif ve negatif sınıfları ayırma konusunda oldukça başarılı olduğunu gösteriyor."
      ],
      "metadata": {
        "id": "flFRWExaFwJw"
      }
    },
    {
      "cell_type": "markdown",
      "source": [
        "Randomized Search ile Hiperparametre Optimizasyonu:\n",
        "\n",
        "Süreci hızlandırmak için önce şunları yapalım.\n",
        "*   Daha Az Hiperparametre Kombinasyonu\n",
        "*   Daha Az Katlı Çapraz Doğrulama (CV)\n",
        "*   Daha Az Hiperparametre Değeri"
      ],
      "metadata": {
        "id": "egJ8LrgMENS1"
      }
    },
    {
      "cell_type": "code",
      "source": [
        "import pandas as pd\n",
        "from sklearn.model_selection import train_test_split\n",
        "from sklearn.ensemble import RandomForestClassifier\n",
        "from sklearn.model_selection import RandomizedSearchCV\n",
        "from scipy.stats import randint\n",
        "\n",
        "# Örnek veri setini yükleme (örneğin, bir CSV dosyasından)\n",
        "# df = pd.read_csv('veri_seti.csv')  # Kendi veri setinizi buraya yükleyin\n",
        "# X = df.drop('hedef_sütun', axis=1)  # Özellikler\n",
        "# y = df['hedef_sütun']  # Hedef\n",
        "\n",
        "# Örnek veri oluşturma (bu satırları kendi veri setinizle değiştirmelisiniz)\n",
        "from sklearn.datasets import make_classification\n",
        "X, y = make_classification(n_samples=1000, n_features=20, n_classes=2, random_state=42)\n",
        "\n",
        "# Eğitim ve test setlerine ayırma\n",
        "X_train, X_test, y_train, y_test = train_test_split(X, y, test_size=0.2, random_state=42)\n",
        "\n",
        "# Küçük bir veri alt kümesi oluşturma\n",
        "X_train_sub, _, y_train_sub, _ = train_test_split(X_train, y_train, test_size=0.1, random_state=42)\n",
        "\n",
        "# Parametre aralığı\n",
        "param_dist = {\n",
        "    'n_estimators': [10, 20],  # Daha az kombinasyon\n",
        "    'max_depth': [5, 10],\n",
        "    'min_samples_split': [2, 5],\n",
        "    'min_samples_leaf': [1, 2]\n",
        "}\n",
        "\n",
        "# Model\n",
        "rf_model = RandomForestClassifier(random_state=42)\n",
        "\n",
        "# RandomizedSearchCV\n",
        "random_search = RandomizedSearchCV(\n",
        "    estimator=rf_model,\n",
        "    param_distributions=param_dist,\n",
        "    n_iter=5,  # Daha az kombinasyon\n",
        "    scoring='roc_auc',\n",
        "    cv=2,      # Daha az katlama\n",
        "    n_jobs=-1,\n",
        "    random_state=42,\n",
        "    verbose=1\n",
        ")\n",
        "\n",
        "# Modeli eğitim\n",
        "random_search.fit(X_train_sub, y_train_sub)\n",
        "\n",
        "# Sonuçları görüntüleme\n",
        "print(\"En İyi Hiperparametreler:\")\n",
        "print(random_search.best_params_)\n",
        "\n",
        "print(\"En İyi Skor:\")\n",
        "print(random_search.best_score_)"
      ],
      "metadata": {
        "colab": {
          "base_uri": "https://localhost:8080/"
        },
        "id": "ilLWmBqeLebG",
        "outputId": "bf6b3273-6deb-451a-df1b-4d68156f4f3e"
      },
      "execution_count": 14,
      "outputs": [
        {
          "output_type": "stream",
          "name": "stdout",
          "text": [
            "Fitting 2 folds for each of 5 candidates, totalling 10 fits\n",
            "En İyi Hiperparametreler:\n",
            "{'n_estimators': 20, 'min_samples_split': 2, 'min_samples_leaf': 1, 'max_depth': 5}\n",
            "En İyi Skor:\n",
            "0.9403409090909092\n"
          ]
        }
      ]
    },
    {
      "cell_type": "markdown",
      "source": [
        "Skorunuz da oldukça iyi! Şimdi bu hiperparametrelerle modelinizi eğitmeye ve test etmeye geçelim."
      ],
      "metadata": {
        "id": "bbMz7iSJL3Kx"
      }
    },
    {
      "cell_type": "code",
      "source": [
        "from sklearn.ensemble import RandomForestClassifier\n",
        "from sklearn.metrics import accuracy_score, confusion_matrix, classification_report, roc_auc_score\n",
        "\n",
        "# En iyi hiperparametrelerle model oluşturma\n",
        "best_rf_model = RandomForestClassifier(\n",
        "    n_estimators=20,\n",
        "    min_samples_split=2,\n",
        "    min_samples_leaf=1,\n",
        "    max_depth=5,\n",
        "    random_state=42\n",
        ")\n",
        "\n",
        "# Modeli eğitme\n",
        "best_rf_model.fit(X_train, y_train)\n",
        "\n",
        "# Test seti ile tahmin yapma\n",
        "y_pred = best_rf_model.predict(X_test)\n",
        "\n",
        "# Sonuçları değerlendirme\n",
        "accuracy = accuracy_score(y_test, y_pred)\n",
        "conf_matrix = confusion_matrix(y_test, y_pred)\n",
        "classification_rep = classification_report(y_test, y_pred)\n",
        "auc = roc_auc_score(y_test, y_pred)\n",
        "\n",
        "# Sonuçları yazdırma\n",
        "print(f\"Doğruluk oranı: {accuracy:.2f}\")\n",
        "print(\"Karışıklık Matrisi:\\n\", conf_matrix)\n",
        "print(\"Sınıflandırma Raporu:\\n\", classification_rep)\n",
        "print(f\"ROC-AUC Skoru: {auc:.2f}\")"
      ],
      "metadata": {
        "colab": {
          "base_uri": "https://localhost:8080/"
        },
        "id": "n66rEwYwL5m_",
        "outputId": "67609636-b115-4af2-b6c0-76592189c0e5"
      },
      "execution_count": 15,
      "outputs": [
        {
          "output_type": "stream",
          "name": "stdout",
          "text": [
            "Doğruluk oranı: 0.88\n",
            "Karışıklık Matrisi:\n",
            " [[86  7]\n",
            " [17 90]]\n",
            "Sınıflandırma Raporu:\n",
            "               precision    recall  f1-score   support\n",
            "\n",
            "           0       0.83      0.92      0.88        93\n",
            "           1       0.93      0.84      0.88       107\n",
            "\n",
            "    accuracy                           0.88       200\n",
            "   macro avg       0.88      0.88      0.88       200\n",
            "weighted avg       0.88      0.88      0.88       200\n",
            "\n",
            "ROC-AUC Skoru: 0.88\n"
          ]
        }
      ]
    },
    {
      "cell_type": "markdown",
      "source": [
        "Sonuçlar oldukça iyi görünüyor! Modelimizin doğruluk oranı %88 ve ROC-AUC skoru da %88, bu da modelimizin sınıflandırma yeteneğinin oldukça dengeli olduğunu gösteriyor."
      ],
      "metadata": {
        "id": "3bm3IPyNMDZ-"
      }
    },
    {
      "cell_type": "markdown",
      "source": [
        "Şimdi de Gözetimsiz Öğrenme Algoritmaları kullanarak bu modeli yapalım."
      ],
      "metadata": {
        "id": "tLP5XPbNMfN7"
      }
    },
    {
      "cell_type": "code",
      "source": [
        "# Veri Hazırlığı\n",
        "from sklearn.preprocessing import StandardScaler\n",
        "\n",
        "# Verilerinizi standartlaştırma\n",
        "scaler = StandardScaler()\n",
        "X_scaled = scaler.fit_transform(X)  # X, gözetimsiz öğrenme için kullandığınız özellikler\n"
      ],
      "metadata": {
        "id": "VO8O60VpMoKh"
      },
      "execution_count": 16,
      "outputs": []
    },
    {
      "cell_type": "code",
      "source": [
        "# 2. K-Means Kullanarak Model Eğitimi ve Hiperparametre Optimizasyonu\n",
        "from sklearn.cluster import KMeans\n",
        "from sklearn.model_selection import GridSearchCV\n",
        "from sklearn.metrics import silhouette_score\n",
        "\n",
        "# Hiperparametre aralığı\n",
        "param_grid = {\n",
        "    'n_clusters': [2, 3, 4, 5],\n",
        "    'init': ['k-means++', 'random'],\n",
        "    'n_init': [10, 20],\n",
        "    'max_iter': [300, 600]\n",
        "}\n",
        "\n",
        "# Model\n",
        "kmeans = KMeans(random_state=42)\n",
        "\n",
        "# GridSearchCV\n",
        "grid_search = GridSearchCV(estimator=kmeans, param_grid=param_grid, cv=3, n_jobs=-1, verbose=1)\n",
        "\n",
        "# Modeli eğitme\n",
        "grid_search.fit(X_scaled)\n",
        "\n",
        "# Sonuçları görüntüleme\n",
        "print(\"En İyi Hiperparametreler:\")\n",
        "print(grid_search.best_params_)\n",
        "print(\"En İyi Skor (Silhouette):\", silhouette_score(X_scaled, grid_search.best_estimator_.predict(X_scaled)))"
      ],
      "metadata": {
        "colab": {
          "base_uri": "https://localhost:8080/"
        },
        "id": "aDS_yDgiMxH4",
        "outputId": "d847169a-4b92-4c5d-b0f7-f7bb697805f0"
      },
      "execution_count": 18,
      "outputs": [
        {
          "output_type": "stream",
          "name": "stdout",
          "text": [
            "Fitting 3 folds for each of 32 candidates, totalling 96 fits\n",
            "En İyi Hiperparametreler:\n",
            "{'init': 'random', 'max_iter': 300, 'n_clusters': 5, 'n_init': 20}\n",
            "En İyi Skor (Silhouette): 0.05075636572843146\n"
          ]
        }
      ]
    },
    {
      "cell_type": "markdown",
      "source": [
        "Modelimizi iyileştirelim.\n",
        "1. Küme Sayısını Değiştirme (K-Means)"
      ],
      "metadata": {
        "id": "mhrZi_gLNdwz"
      }
    },
    {
      "cell_type": "code",
      "source": [
        "from sklearn.cluster import KMeans\n",
        "from sklearn.metrics import silhouette_score\n",
        "\n",
        "# Küme sayısını denemek için bir liste oluştur\n",
        "n_clusters_list = range(3, 11)\n",
        "silhouette_scores = []\n",
        "\n",
        "for n_clusters in n_clusters_list:\n",
        "    kmeans = KMeans(n_clusters=n_clusters, init='random', max_iter=300, n_init=20, random_state=42)\n",
        "    kmeans.fit(X_scaled)\n",
        "    score = silhouette_score(X_scaled, kmeans.labels_)\n",
        "    silhouette_scores.append(score)\n",
        "\n",
        "# En iyi sonuçları yazdır\n",
        "best_n_clusters = n_clusters_list[silhouette_scores.index(max(silhouette_scores))]\n",
        "best_score = max(silhouette_scores)\n",
        "\n",
        "print(f\"En İyi Küme Sayısı: {best_n_clusters}, En İyi Silhouette Skoru: {best_score:.4f}\")"
      ],
      "metadata": {
        "colab": {
          "base_uri": "https://localhost:8080/"
        },
        "id": "KyILILwcNh88",
        "outputId": "9d18b481-2b8e-4eb6-991b-8d28010c06fb"
      },
      "execution_count": 20,
      "outputs": [
        {
          "output_type": "stream",
          "name": "stdout",
          "text": [
            "En İyi Küme Sayısı: 4, En İyi Silhouette Skoru: 0.0526\n"
          ]
        }
      ]
    },
    {
      "cell_type": "markdown",
      "source": [
        "\n",
        "Hiyerarşik kümeleme ile deneyelim.\n",
        "\n"
      ],
      "metadata": {
        "id": "ylGIi928NwyA"
      }
    },
    {
      "cell_type": "code",
      "source": [
        "from sklearn.cluster import AgglomerativeClustering\n",
        "\n",
        "# Hiyerarşik Kümeleme\n",
        "hierarchical_model = AgglomerativeClustering(n_clusters=4)\n",
        "hierarchical_labels = hierarchical_model.fit_predict(X_scaled)\n",
        "\n",
        "# Silhouette Skoru\n",
        "hierarchical_score = silhouette_score(X_scaled, hierarchical_labels)\n",
        "print(f\"Hiyerarşik Kümeleme Silhouette Skoru: {hierarchical_score:.4f}\")"
      ],
      "metadata": {
        "colab": {
          "base_uri": "https://localhost:8080/"
        },
        "id": "AiFCtSIaNxjJ",
        "outputId": "6ad39d56-e6b7-4f38-a1d0-9446ea985f65"
      },
      "execution_count": 21,
      "outputs": [
        {
          "output_type": "stream",
          "name": "stdout",
          "text": [
            "Hiyerarşik Kümeleme Silhouette Skoru: 0.0235\n"
          ]
        }
      ]
    },
    {
      "cell_type": "markdown",
      "source": [
        "Gaussian Mixture Model (GMM): Farklı bir yaklaşım deneyelim."
      ],
      "metadata": {
        "id": "eroOAVLmOUVs"
      }
    },
    {
      "cell_type": "code",
      "source": [
        "from sklearn.mixture import GaussianMixture\n",
        "\n",
        "# GMM Modeli\n",
        "gmm_model = GaussianMixture(n_components=4, random_state=42)\n",
        "gmm_labels = gmm_model.fit_predict(X_scaled)\n",
        "\n",
        "# Silhouette Skoru\n",
        "gmm_score = silhouette_score(X_scaled, gmm_labels)\n",
        "print(f\"GMM Silhouette Skoru: {gmm_score:.4f}\")"
      ],
      "metadata": {
        "colab": {
          "base_uri": "https://localhost:8080/"
        },
        "id": "NimJWmISOLzK",
        "outputId": "71fde259-eeda-48b9-b578-93b28441bbb3"
      },
      "execution_count": 22,
      "outputs": [
        {
          "output_type": "stream",
          "name": "stdout",
          "text": [
            "GMM Silhouette Skoru: 0.0304\n"
          ]
        }
      ]
    },
    {
      "cell_type": "code",
      "source": [
        "from sklearn.cluster import DBSCAN\n",
        "from sklearn.preprocessing import StandardScaler\n",
        "from sklearn.metrics import silhouette_score\n",
        "\n",
        "# Verilerinizi ölçeklendirin\n",
        "X_scaled = StandardScaler().fit_transform(X)  # X veri setiniz\n",
        "\n",
        "# DBSCAN uygulama\n",
        "dbscan = DBSCAN(eps=0.5, min_samples=5)\n",
        "dbscan.fit(X_scaled)\n",
        "\n",
        "# Küme etiketlerini elde etme\n",
        "labels = dbscan.labels_\n",
        "\n",
        "# Silhouette skoru hesaplama\n",
        "if len(set(labels)) > 1:  # En az 2 küme varsa\n",
        "    silhouette_avg = silhouette_score(X_scaled, labels)\n",
        "    print(f\"DBSCAN Silhouette Skoru: {silhouette_avg}\")\n",
        "else:\n",
        "    print(\"DBSCAN ile yeterli sayıda küme oluşturulamadı.\")"
      ],
      "metadata": {
        "colab": {
          "base_uri": "https://localhost:8080/"
        },
        "id": "PUibAQEYPpGL",
        "outputId": "a22186d9-4910-4b58-efd1-b2a80d7fafc3"
      },
      "execution_count": 30,
      "outputs": [
        {
          "output_type": "stream",
          "name": "stdout",
          "text": [
            "DBSCAN Silhouette Skoru: 0.7072907134227534\n"
          ]
        },
        {
          "output_type": "stream",
          "name": "stderr",
          "text": [
            "/usr/local/lib/python3.10/dist-packages/ipykernel/ipkernel.py:283: DeprecationWarning: `should_run_async` will not call `transform_cell` automatically in the future. Please pass the result to `transformed_cell` argument and any exception that happen during thetransform in `preprocessing_exc_tuple` in IPython 7.17 and above.\n",
            "  and should_run_async(code)\n"
          ]
        }
      ]
    },
    {
      "cell_type": "markdown",
      "source": [
        "DBSCAN için elde ettiğin Silhouette skoru oldukça iyi görünüyor! 0.707 gibi bir değer, kümelerin birbirinden belirgin bir şekilde ayrıldığını gösteriyor. Bu, verinin doğal yapısının DBSCAN tarafından iyi bir şekilde yakalandığını düşündürüyor."
      ],
      "metadata": {
        "id": "FUePUerhPyFS"
      }
    },
    {
      "cell_type": "code",
      "source": [
        "import matplotlib.pyplot as plt\n",
        "from sklearn.cluster import DBSCAN\n",
        "\n",
        "# DBSCAN ile uygun eps ve min_samples değerleri ile model oluşturun\n",
        "dbscan = DBSCAN(eps=1.2865694816789628, min_samples=25)\n",
        "labels = dbscan.fit_predict(X_scaled)\n",
        "\n",
        "# Kümeleme sonuçlarını görselleştirin\n",
        "plt.figure(figsize=(10, 6))\n",
        "plt.scatter(X_scaled[:, 0], X_scaled[:, 1], c=labels, cmap='viridis', marker='o', edgecolor='k', s=50)\n",
        "plt.title('DBSCAN Kümeleme Sonuçları')\n",
        "plt.xlabel('Özellik 1')\n",
        "plt.ylabel('Özellik 2')\n",
        "plt.colorbar(label='Küme Etiketleri')\n",
        "plt.show()\n",
        "\n",
        "# Küme sayısını kontrol et\n",
        "n_clusters = len(set(labels)) - (1 if -1 in labels else 0)\n",
        "print(f\"Toplam Küme Sayısı: {n_clusters}\")\n",
        "\n",
        "# Eğer geçerli küme sayısı varsa silhouette skoru hesaplayın\n",
        "if n_clusters > 1:\n",
        "    score = silhouette_score(X_scaled, labels)\n",
        "    print(f\"Silhouette Skoru: {score}\")\n",
        "else:\n",
        "    print(\"Silhouette Skoru hesaplamak için en az iki küme gerekli.\")"
      ],
      "metadata": {
        "colab": {
          "base_uri": "https://localhost:8080/",
          "height": 653
        },
        "id": "f5oODjyiQh-e",
        "outputId": "13529c4b-8ce9-4930-9d48-832f67549b78"
      },
      "execution_count": 35,
      "outputs": [
        {
          "output_type": "stream",
          "name": "stderr",
          "text": [
            "/usr/local/lib/python3.10/dist-packages/ipykernel/ipkernel.py:283: DeprecationWarning: `should_run_async` will not call `transform_cell` automatically in the future. Please pass the result to `transformed_cell` argument and any exception that happen during thetransform in `preprocessing_exc_tuple` in IPython 7.17 and above.\n",
            "  and should_run_async(code)\n"
          ]
        },
        {
          "output_type": "display_data",
          "data": {
            "text/plain": [
              "<Figure size 1000x600 with 2 Axes>"
            ],
            "image/png": "[encoded data removed]"
          },
          "metadata": {}
        },
        {
          "output_type": "stream",
          "name": "stdout",
          "text": [
            "Toplam Küme Sayısı: 2\n",
            "Silhouette Skoru: 0.5787825172771479\n"
          ]
        }
      ]
    },
    {
      "cell_type": "code",
      "source": [],
      "metadata": {
        "id": "OI7luhp_Tf1Z"
      },
      "execution_count": null,
      "outputs": []
    }
  ]
}