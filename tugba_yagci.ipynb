{
 "cells": [
  {
   "cell_type": "code",
   "execution_count": null,
   "id": "8cbfabf7-e171-40dd-8f10-363ead9a4be3",
   "metadata": {},
   "outputs": [
    {
     "name": "stdout",
     "output_type": "stream",
     "text": [
      "Seninle Dünya'nın gelmiş geçmiş en ünlü oyununu oynayacağız.\n",
      "\n",
      "Taş, Kağıt ve Makas!\n",
      "\n",
      "Gelelim oyunun kurallarına!\n",
      "3 el oyun oynayacağız ve 2 eli alan kazanacak.\n",
      "Oyunda amacınız rakibinizi yenmek ve kuralları çok basit:\n",
      "Taş makası yener.\n",
      "Makas kağıdı yener.\n",
      "Kağıt taşı yener.\n",
      "Her turda taş, kağıt veya makas seçeneklerinden birini seçin. Ben de bir seçim yapacağım. Bakalım kim kazanacak!\n",
      "O zaman oyuna başlayalım mı? (evet/hayır)\n"
     ]
    },
    {
     "name": "stdin",
     "output_type": "stream",
     "text": [
      " evet\n"
     ]
    },
    {
     "name": "stdout",
     "output_type": "stream",
     "text": [
      "### Oyun: 1, El: 1 ###\n",
      "\n",
      "\n"
     ]
    },
    {
     "name": "stdin",
     "output_type": "stream",
     "text": [
      "Taş, Kağıt veya Makas?  makas\n"
     ]
    },
    {
     "name": "stdout",
     "output_type": "stream",
     "text": [
      "Kullanıcı seçimi:  makas\n",
      "Bilgisayar seçimi:  taş\n",
      "Eli ben kazandım. Zor olmadı :)\n",
      "### Oyun: 1, El: 2 ###\n",
      "\n",
      "\n"
     ]
    },
    {
     "name": "stdin",
     "output_type": "stream",
     "text": [
      "Taş, Kağıt veya Makas?  taş\n"
     ]
    },
    {
     "name": "stdout",
     "output_type": "stream",
     "text": [
      "Kullanıcı seçimi:  taş\n",
      "Bilgisayar seçimi:  makas\n",
      "Şanlısın! Eli sen kazandın.\n",
      "### Oyun: 1, El: 3 ###\n",
      "\n",
      "\n"
     ]
    },
    {
     "name": "stdin",
     "output_type": "stream",
     "text": [
      "Taş, Kağıt veya Makas?  kağıt\n"
     ]
    },
    {
     "name": "stdout",
     "output_type": "stream",
     "text": [
      "Kullanıcı seçimi:  kağıt\n",
      "Bilgisayar seçimi:  taş\n",
      "Şanlısın! Eli sen kazandın.\n",
      "Oyun tamamlandı!\n",
      "Kullanıcı: 2, Bilgisayar: 1\n",
      "Çok şanslısın! Oyunu sen kazandın.\n",
      "Bir kez daha oynamak ister misin, şampiyon? (evet/hayır)\n"
     ]
    },
    {
     "name": "stdin",
     "output_type": "stream",
     "text": [
      " evet\n"
     ]
    },
    {
     "name": "stdout",
     "output_type": "stream",
     "text": [
      "### Oyun: 2, El: 1 ###\n",
      "\n",
      "\n"
     ]
    }
   ],
   "source": [
    "import random\n",
    "import time\n",
    "\n",
    "print(\"Seninle Dünya'nın gelmiş geçmiş en ünlü oyununu oynayacağız.\\n\\n\"\n",
    "      \"Taş, Kağıt ve Makas!\\n\\nGelelim oyunun kurallarına!\\n3 el oyun oynayacağız ve 2 eli alan kazanacak.\\n\"\n",
    "      \"Oyunda amacınız rakibinizi yenmek ve kuralları çok basit:\\n\"\n",
    "      \"Taş makası yener.\\nMakas kağıdı yener.\\nKağıt taşı yener.\\n\"\n",
    "      \"Her turda taş, kağıt veya makas seçeneklerinden birini seçin. Ben de bir seçim yapacağım. Bakalım kim kazanacak!\")\n",
    "\n",
    "def tas_kagit_makas_tugba_yagci(kullanici_secenek, bilgisayar_secenek):\n",
    "    bilgisayar = 0\n",
    "    kullanici = 0\n",
    "    \n",
    "    if kullanici_secenek == \"taş\":\n",
    "        if bilgisayar_secenek == \"makas\":\n",
    "            kullanici += 1\n",
    "            time.sleep(1)\n",
    "            print(\"Şanlısın! Eli sen kazandın.\")\n",
    "        elif bilgisayar_secenek == \"kağıt\":\n",
    "            bilgisayar += 1\n",
    "            time.sleep(1)\n",
    "            print(\"Eli ben kazandım. Zor olmadı :)\")\n",
    "        elif bilgisayar_secenek == \"taş\":\n",
    "            time.sleep(1)\n",
    "            print(\"Berabere! Bir daha deneyelim.\")\n",
    "            \n",
    "    elif kullanici_secenek == \"kağıt\":\n",
    "        if bilgisayar_secenek == \"makas\":\n",
    "            bilgisayar += 1\n",
    "            time.sleep(1)\n",
    "            print(\"Eli ben kazandım. Zor olmadı :)\")\n",
    "        elif bilgisayar_secenek == \"kağıt\":\n",
    "            time.sleep(1)\n",
    "            print(\"Berabere! Bir daha deneyelim.\")\n",
    "        elif bilgisayar_secenek == \"taş\":\n",
    "            kullanici += 1\n",
    "            time.sleep(1)\n",
    "            print(\"Şanlısın! Eli sen kazandın.\")\n",
    "            \n",
    "    elif kullanici_secenek == \"makas\":\n",
    "        if bilgisayar_secenek == \"makas\":\n",
    "            time.sleep(1)\n",
    "            print(\"Berabere! Bir daha deneyelim.\")\n",
    "        elif bilgisayar_secenek == \"kağıt\":\n",
    "            kullanici += 1\n",
    "            time.sleep(1)\n",
    "            print(\"Şanlısın! Eli sen kazandın.\")\n",
    "        elif bilgisayar_secenek == \"taş\":\n",
    "            bilgisayar += 1\n",
    "            time.sleep(1)\n",
    "            print(\"Eli ben kazandım. Zor olmadı :)\")\n",
    "            \n",
    "    return kullanici, bilgisayar\n",
    "\n",
    "oyunlist = [\"taş\", \"kağıt\", \"makas\"]\n",
    "bilgisayar_sayac = 0\n",
    "kullanici_sayac = 0\n",
    "oyun_sayac = 1\n",
    "el_sayac = 1\n",
    "\n",
    "print(\"O zaman oyuna başlayalım mı? (evet/hayır)\")\n",
    "kullanici_istek = input().lower()\n",
    "\n",
    "if kullanici_istek == \"hayır\":\n",
    "    print(\"Oynamayacaksan beni neden çağırdın! Oynamak istediğinde gel.\")\n",
    "else:\n",
    "    while kullanici_istek == \"evet\":\n",
    "        bilgisayar_sayac = 0\n",
    "        kullanici_sayac = 0\n",
    "        el_sayac = 1\n",
    "        \n",
    "        while bilgisayar_sayac < 2 and kullanici_sayac < 2:\n",
    "            print(f\"### Oyun: {oyun_sayac}, El: {el_sayac} ###\\n\\n\")\n",
    "            kullanici_secenek = input(\"Taş, Kağıt veya Makas? \").lower()\n",
    "            \n",
    "            if kullanici_secenek in oyunlist:\n",
    "                print(\"Kullanıcı seçimi: \", kullanici_secenek)\n",
    "                bilgisayar_secenek = oyunlist[random.randint(0, 2)]\n",
    "                print(\"Bilgisayar seçimi: \", bilgisayar_secenek)\n",
    "                k_sonuc, b_sonuc = tas_kagit_makas_tugba_yagci(kullanici_secenek, bilgisayar_secenek)\n",
    "                kullanici_sayac += k_sonuc\n",
    "                bilgisayar_sayac += b_sonuc\n",
    "                el_sayac += 1\n",
    "            else:\n",
    "                print(\"Hatalı seçim yaptınız. Taş, Kağıt veya Makas seçiniz.\")\n",
    "        \n",
    "        oyun_sayac += 1\n",
    "        print(f\"Oyun tamamlandı!\\nKullanıcı: {kullanici_sayac}, Bilgisayar: {bilgisayar_sayac}\")\n",
    "        \n",
    "        if kullanici_sayac > bilgisayar_sayac:\n",
    "            print(\"Çok şanslısın! Oyunu sen kazandın.\\nBir kez daha oynamak ister misin, şampiyon? (evet/hayır)\")\n",
    "        else:\n",
    "            print(\"Benim kazanacağım belliydi, üzülme :)\\nYenilen pehlivan güreşe doymazmış. Tekrar oynamak ister misin? (evet/hayır)\")\n",
    "        \n",
    "        kullanici_istek = input().lower()\n",
    "        \n",
    "        tekrarlist = [\"evet\", \"hayır\"]\n",
    "        bilgisayar_istek = tekrarlist[random.randint(0, 1)]\n",
    "        \n",
    "        if bilgisayar_istek == \"hayır\" and kullanici_istek == \"evet\":\n",
    "            print(\"Sen devam etmek istiyor olabilirsin ama ben ve keyfimin kahyası devam etmek istemiyoruz, görüşürüz.\")\n",
    "            break\n",
    "\n",
    "print(\"Oyun bitti, tekrar bekleriz!\")\n"
   ]
  },
  {
   "cell_type": "code",
   "execution_count": null,
   "id": "aef33741-a1be-47bf-ab68-b71bcc8211f0",
   "metadata": {},
   "outputs": [],
   "source": []
  }
 ],
 "metadata": {
  "kernelspec": {
   "display_name": "Python 3 (ipykernel)",
   "language": "python",
   "name": "python3"
  },
  "language_info": {
   "codemirror_mode": {
    "name": "ipython",
    "version": 3
   },
   "file_extension": ".py",
   "mimetype": "text/x-python",
   "name": "python",
   "nbconvert_exporter": "python",
   "pygments_lexer": "ipython3",
   "version": "3.12.4"
  }
 },
 "nbformat": 4,
 "nbformat_minor": 5
}
